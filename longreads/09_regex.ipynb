{
 "cells": [
  {
   "cell_type": "markdown",
   "metadata": {},
   "source": [
    "# Регулярные выражения\n",
    "В этом лонгриде рассмотрим основные методы, используемые при работе с регулярными выражениями.\n",
    "А как составить сам шаблон (регулярное выражение), лучше посмотреть в [статьях, составленных специально для этого](https://habr.com/ru/post/349860/)"
   ]
  },
  {
   "cell_type": "code",
   "execution_count": 1,
   "metadata": {},
   "outputs": [],
   "source": [
    "# модуль re содержит реализацию регулярных выражений в Python\n",
    "import re"
   ]
  },
  {
   "cell_type": "markdown",
   "metadata": {},
   "source": [
    "## Основные методы:\n",
    "* `search()`\n",
    "* `match()`\n",
    "* `findall()`\n",
    "* `split()`\n",
    "* `sub()`"
   ]
  },
  {
   "cell_type": "markdown",
   "metadata": {},
   "source": [
    "## `re.match(pattern, string)`\n",
    "Метод ищет по заданному шаблону в начале строки.\n",
    "Вывести содержимое можно с помощью метода `group()`.\n",
    "\n",
    "Необходимо использовать **«r»** перед строкой шаблона, чтобы показать, что это «сырая» строка в Python."
   ]
  },
  {
   "cell_type": "code",
   "execution_count": 2,
   "metadata": {},
   "outputs": [
    {
     "name": "stdout",
     "output_type": "stream",
     "text": [
      "<re.Match object; span=(0, 2), match='AV'>\n"
     ]
    }
   ],
   "source": [
    "result = re.match(r'AV', 'AV Analytics Vidhya AV')\n",
    "print(result)"
   ]
  },
  {
   "cell_type": "code",
   "execution_count": 3,
   "metadata": {},
   "outputs": [
    {
     "data": {
      "text/plain": [
       "'AV'"
      ]
     },
     "execution_count": 3,
     "metadata": {},
     "output_type": "execute_result"
    }
   ],
   "source": [
    "result.group()"
   ]
  },
  {
   "cell_type": "code",
   "execution_count": 4,
   "metadata": {},
   "outputs": [
    {
     "name": "stdout",
     "output_type": "stream",
     "text": [
      "0\n",
      "2\n"
     ]
    }
   ],
   "source": [
    "# можно найти начальную и конечную позиции вхождения\n",
    "print(result.start())\n",
    "print(result.end())"
   ]
  },
  {
   "cell_type": "code",
   "execution_count": 5,
   "metadata": {},
   "outputs": [
    {
     "name": "stdout",
     "output_type": "stream",
     "text": [
      "None\n"
     ]
    }
   ],
   "source": [
    "# match ищет только в начале строки!\n",
    "result = re.match(r'Analytics', 'AV Analytics Vidhya AV')\n",
    "print(result)"
   ]
  },
  {
   "cell_type": "markdown",
   "metadata": {},
   "source": [
    "## `re.search(pattern, string)`\n",
    "Тот же `match()`, но ищет шаблон не только в начале строки"
   ]
  },
  {
   "cell_type": "code",
   "execution_count": 6,
   "metadata": {},
   "outputs": [
    {
     "name": "stdout",
     "output_type": "stream",
     "text": [
      "Analytics\n"
     ]
    }
   ],
   "source": [
    "# поэтому пример заработает, если использовать search\n",
    "result = re.search(r'Analytics', 'AV Analytics Vidhya AV')\n",
    "print(result.group())"
   ]
  },
  {
   "cell_type": "markdown",
   "metadata": {},
   "source": [
    "## `re.findall(pattern, string)`\n",
    "Тот же `search()`, но ищет **все** вхождения шаблона"
   ]
  },
  {
   "cell_type": "code",
   "execution_count": 7,
   "metadata": {},
   "outputs": [
    {
     "name": "stdout",
     "output_type": "stream",
     "text": [
      "['AV', 'AV']\n"
     ]
    }
   ],
   "source": [
    "result = re.findall(r'AV', 'AV Analytics Vidhya AV')\n",
    "print(result)"
   ]
  },
  {
   "cell_type": "code",
   "execution_count": 8,
   "metadata": {},
   "outputs": [
    {
     "name": "stdout",
     "output_type": "stream",
     "text": [
      "['@gmail.com', '@test.in', '@mail.ru', '@rest.org']\n"
     ]
    }
   ],
   "source": [
    "# можно, например, вытащить список доменов из строки с адресами электронной почты\n",
    "result = re.findall(r'@\\w+.\\w+', 'abc.test@gmail.com, xyz@test.in, test.first@mail.ru, first.test@rest.org')\n",
    "print(result)"
   ]
  },
  {
   "cell_type": "markdown",
   "metadata": {},
   "source": [
    "## `re.split(pattern, string, [maxsplit=0])`\n",
    "Разделяет строку по заданному шаблону.\n",
    "\n",
    "Метод `split()` принимает также аргумент **maxsplit** со значением по умолчанию, равным 0. В данном случае он разделит строку столько раз, сколько возможно, но если указать этот аргумент, то разделение будет произведено не более указанного количества раз."
   ]
  },
  {
   "cell_type": "code",
   "execution_count": 9,
   "metadata": {},
   "outputs": [
    {
     "name": "stdout",
     "output_type": "stream",
     "text": [
      "['Analyt', 'cs V', 'dhya']\n"
     ]
    }
   ],
   "source": [
    "result = re.split(r'i', 'Analytics Vidhya')\n",
    "print(result)"
   ]
  },
  {
   "cell_type": "markdown",
   "metadata": {},
   "source": [
    "## `re.sub(pattern, substring, string)`\n",
    "Заменяет шаблон pattern в стоке **string** строкой **substring**"
   ]
  },
  {
   "cell_type": "code",
   "execution_count": 10,
   "metadata": {},
   "outputs": [
    {
     "name": "stdout",
     "output_type": "stream",
     "text": [
      "Anal?tics Vidh?a\n"
     ]
    }
   ],
   "source": [
    "result = re.sub(r'y', '?','Analytics Vidhya')\n",
    "print(result)"
   ]
  },
  {
   "cell_type": "markdown",
   "metadata": {},
   "source": [
    "## `re.compile(pattern)`\n",
    "Позволяет подготовить шаблон регулярного выражения.\n",
    "Это удобно, если шаблон длинный или вам нужно будет часто использовать его."
   ]
  },
  {
   "cell_type": "code",
   "execution_count": 11,
   "metadata": {},
   "outputs": [
    {
     "name": "stdout",
     "output_type": "stream",
     "text": [
      "['@gmail.com', '@test.in', '@mail.ru', '@rest.org']\n"
     ]
    }
   ],
   "source": [
    "# как делали выше\n",
    "result = re.findall(r'@\\w+.\\w+', 'abc.test@gmail.com, xyz@test.in, test.first@mail.ru, first.test@rest.org')\n",
    "print(result)"
   ]
  },
  {
   "cell_type": "code",
   "execution_count": 12,
   "metadata": {},
   "outputs": [
    {
     "name": "stdout",
     "output_type": "stream",
     "text": [
      "['@gmail.com', '@test.in', '@mail.ru', '@rest.org']\n"
     ]
    }
   ],
   "source": [
    "# как сделать через compile\n",
    "regex_pattern = re.compile(r'@\\w+.\\w+')\n",
    "string = 'abc.test@gmail.com, xyz@test.in, test.first@mail.ru, first.test@rest.org'\n",
    "\n",
    "result = regex_pattern.findall(string)\n",
    "print(result)"
   ]
  },
  {
   "cell_type": "markdown",
   "metadata": {},
   "source": [
    "Компиляция шаблона регулярного выражения может способствовать укорению его поиска. Однако, скомпилированные версии недавно использованных регулярных выражений кешируются в памяти.\n",
    "\n",
    "Поэтому программам, использующим небольшое количество выражений, можно не компилировать каждое самостоятельно - интерпретатор и так самостоятельно сделает это."
   ]
  }
 ],
 "metadata": {
  "kernelspec": {
   "display_name": "Python 3 (ipykernel)",
   "language": "python",
   "name": "python3"
  },
  "language_info": {
   "codemirror_mode": {
    "name": "ipython",
    "version": 3
   },
   "file_extension": ".py",
   "mimetype": "text/x-python",
   "name": "python",
   "nbconvert_exporter": "python",
   "pygments_lexer": "ipython3",
   "version": "3.9.7"
  },
  "varInspector": {
   "cols": {
    "lenName": 16,
    "lenType": 16,
    "lenVar": 40
   },
   "kernels_config": {
    "python": {
     "delete_cmd_postfix": "",
     "delete_cmd_prefix": "del ",
     "library": "var_list.py",
     "varRefreshCmd": "print(var_dic_list())"
    },
    "r": {
     "delete_cmd_postfix": ") ",
     "delete_cmd_prefix": "rm(",
     "library": "var_list.r",
     "varRefreshCmd": "cat(var_dic_list()) "
    }
   },
   "types_to_exclude": [
    "module",
    "function",
    "builtin_function_or_method",
    "instance",
    "_Feature"
   ],
   "window_display": false
  }
 },
 "nbformat": 4,
 "nbformat_minor": 2
}
