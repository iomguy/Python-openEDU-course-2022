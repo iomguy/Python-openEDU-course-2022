{
 "cells": [
  {
   "cell_type": "markdown",
   "metadata": {},
   "source": [
    "# Генераторы\n",
    "В этом лонгриде рассмотрим, что такое генераторы, list comprehension, и чем они отличаются"
   ]
  },
  {
   "cell_type": "markdown",
   "metadata": {},
   "source": [
    "## List comprehension\n",
    "\n",
    "Удобный способ создавать списки \"в одну строку\" с помощью подобного синтаксиса:\n",
    "\n",
    "```python\n",
    "[f(x) for x in collection if condition(x)] \n",
    "```\n",
    "\n",
    "Чтобы понять, как это работает, проще всего посмотреть на пример"
   ]
  },
  {
   "cell_type": "code",
   "execution_count": 1,
   "metadata": {},
   "outputs": [],
   "source": [
    "l = [1,2,3,4,5,6,7,8]"
   ]
  },
  {
   "cell_type": "code",
   "execution_count": 2,
   "metadata": {},
   "outputs": [
    {
     "data": {
      "text/plain": [
       "[1, 4, 9, 16, 25, 36, 49, 64]"
      ]
     },
     "execution_count": 2,
     "metadata": {},
     "output_type": "execute_result"
    }
   ],
   "source": [
    "# создадим список квадратов всех элементов списка l\n",
    "l_square = [x**2 for x in l]\n",
    "l_square"
   ]
  },
  {
   "cell_type": "code",
   "execution_count": 3,
   "metadata": {},
   "outputs": [
    {
     "data": {
      "text/plain": [
       "[4, 16, 36, 64]"
      ]
     },
     "execution_count": 3,
     "metadata": {},
     "output_type": "execute_result"
    }
   ],
   "source": [
    "# или список квадратов всех чётных элементов списка l\n",
    "l_square_even = [x**2 for x in l if x % 2 == 0]\n",
    "l_square_even"
   ]
  },
  {
   "cell_type": "code",
   "execution_count": 4,
   "metadata": {},
   "outputs": [
    {
     "data": {
      "text/plain": [
       "[6, 14, 24, 36, 50]"
      ]
     },
     "execution_count": 4,
     "metadata": {},
     "output_type": "execute_result"
    }
   ],
   "source": [
    "# можно удобно перемножить элементы двух списков\n",
    "x = [1,2,3,4,5]\n",
    "y = [6,7,8,9,10]\n",
    "\n",
    "l_mul = [element_x*element_y for element_x, element_y in zip(x,y)]\n",
    "l_mul"
   ]
  },
  {
   "cell_type": "markdown",
   "metadata": {},
   "source": [
    "**List comprehension позволяет писать меньше кода**, но фактически лишь дублирует создание списка через обычный цикл `for`"
   ]
  },
  {
   "cell_type": "markdown",
   "metadata": {},
   "source": [
    "# Генераторы\n",
    "Генераторы похожи по синтаксису на List Comprehension, однако отличаются по своей сути.\n",
    "\n",
    "```python\n",
    "(f(x) for x in collection if condition(x))\n",
    "```\n",
    "\n",
    "Генератор - это итератор, который позволяют \"лениво\" вычислять каждый свой следующий элемент. Т.е. лишь в тот момент, когда мы его попросим.\n",
    "\n",
    "Бытовой пример: множество квадратов всех натуральных чисел. Вы можете его представить и описать, но будете вычислять каждый его элемент лишь тогда, когда Вас об этом попросят"
   ]
  },
  {
   "cell_type": "code",
   "execution_count": 5,
   "metadata": {},
   "outputs": [
    {
     "data": {
      "text/plain": [
       "<generator object <genexpr> at 0x105a75620>"
      ]
     },
     "execution_count": 5,
     "metadata": {},
     "output_type": "execute_result"
    }
   ],
   "source": [
    "# создадим генератор квадратов всех чётных элементов списка l\n",
    "l_square_even = (x**2 for x in l if x % 2 == 0)\n",
    "l_square_even"
   ]
  },
  {
   "cell_type": "markdown",
   "metadata": {},
   "source": [
    "генератор будет вычислять свои значения, когда мы \"попросим\" его с помощью `next` или `for`"
   ]
  },
  {
   "cell_type": "code",
   "execution_count": 6,
   "metadata": {},
   "outputs": [
    {
     "data": {
      "text/plain": [
       "4"
      ]
     },
     "execution_count": 6,
     "metadata": {},
     "output_type": "execute_result"
    }
   ],
   "source": [
    "next(l_square_even)"
   ]
  },
  {
   "cell_type": "code",
   "execution_count": 7,
   "metadata": {},
   "outputs": [
    {
     "data": {
      "text/plain": [
       "16"
      ]
     },
     "execution_count": 7,
     "metadata": {},
     "output_type": "execute_result"
    }
   ],
   "source": [
    "next(l_square_even)"
   ]
  },
  {
   "cell_type": "markdown",
   "metadata": {},
   "source": [
    "Генераторы являются итераторами. Обратное не всегда верно.\n",
    "\n",
    "Поэтому, если сейчас применить `for` к генератору, генератор вычислит только оставшиеся элементы.\n",
    "\n",
    "Причём вычисление ```x**2``` будет происходить на каждом шаге цикла `for`"
   ]
  },
  {
   "cell_type": "code",
   "execution_count": 8,
   "metadata": {},
   "outputs": [
    {
     "name": "stdout",
     "output_type": "stream",
     "text": [
      "36\n",
      "64\n"
     ]
    }
   ],
   "source": [
    "for i in l_square_even:\n",
    "    print(i)"
   ]
  },
  {
   "cell_type": "markdown",
   "metadata": {},
   "source": [
    "## Зачем нужные генераторы?\n",
    "\n",
    "Они позволяют:\n",
    "1. Итеративно получать значения, каждое из которых может по каким-то причинам долго вычисляться.\n",
    "2. Итеративно получать значения бесконечной коллекции"
   ]
  },
  {
   "cell_type": "markdown",
   "metadata": {},
   "source": [
    "## Как ещё создать генератор?\n",
    "Синтаксис, похожий на **list comprehension** - это упрощённый способ создать генератор:"
   ]
  },
  {
   "cell_type": "code",
   "execution_count": 9,
   "metadata": {},
   "outputs": [
    {
     "data": {
      "text/plain": [
       "[1, 4, 9, 16, 25, 36, 49, 64]"
      ]
     },
     "execution_count": 9,
     "metadata": {},
     "output_type": "execute_result"
    }
   ],
   "source": [
    "# список\n",
    "l1 = [x**2 for x in l]\n",
    "l1"
   ]
  },
  {
   "cell_type": "markdown",
   "metadata": {},
   "source": [
    "синтаксис ниже называется **generator expression**"
   ]
  },
  {
   "cell_type": "code",
   "execution_count": 10,
   "metadata": {},
   "outputs": [
    {
     "data": {
      "text/plain": [
       "<generator object <genexpr> at 0x105a759a0>"
      ]
     },
     "execution_count": 10,
     "metadata": {},
     "output_type": "execute_result"
    }
   ],
   "source": [
    "# генератор\n",
    "l2 = (x**2 for x in l)\n",
    "l2"
   ]
  },
  {
   "cell_type": "markdown",
   "metadata": {},
   "source": [
    "Однако генераторы можно создавать и с помощью синтаксиса, похожего на функции.\n",
    "\n",
    "Функция ниже создаст такой же список, что и list comprehension выше"
   ]
  },
  {
   "cell_type": "code",
   "execution_count": 11,
   "metadata": {},
   "outputs": [],
   "source": [
    "def func(n):\n",
    "    result = []\n",
    "    for i in range(1,n+1):\n",
    "        result.append(i**2)\n",
    "    return result"
   ]
  },
  {
   "cell_type": "code",
   "execution_count": 12,
   "metadata": {},
   "outputs": [
    {
     "data": {
      "text/plain": [
       "[1, 4, 9, 16, 25, 36, 49, 64]"
      ]
     },
     "execution_count": 12,
     "metadata": {},
     "output_type": "execute_result"
    }
   ],
   "source": [
    "func(8)"
   ]
  },
  {
   "cell_type": "markdown",
   "metadata": {},
   "source": [
    "Для создания генератора необходимо использовать слово `yield` вместо `result`.\n",
    "\n",
    "`yield` сообщает интерпретатору, что следующий шаг фильтра должен быть вычислен только по команде метода `next` (или если её неявно вызовет цикл `for`).\n",
    "\n",
    "Синтаксис ниже называется **generator function**"
   ]
  },
  {
   "cell_type": "code",
   "execution_count": 13,
   "metadata": {},
   "outputs": [],
   "source": [
    "def gen(n):\n",
    "    for i in range(1,n+1):\n",
    "        yield i**2"
   ]
  },
  {
   "cell_type": "code",
   "execution_count": 14,
   "metadata": {},
   "outputs": [],
   "source": [
    "# g - такой же генератор, как и l2\n",
    "g = gen(8)"
   ]
  },
  {
   "cell_type": "code",
   "execution_count": 15,
   "metadata": {},
   "outputs": [
    {
     "data": {
      "text/plain": [
       "1"
      ]
     },
     "execution_count": 15,
     "metadata": {},
     "output_type": "execute_result"
    }
   ],
   "source": [
    "# к нему применим метод next \n",
    "next(g)"
   ]
  },
  {
   "cell_type": "markdown",
   "metadata": {},
   "source": [
    "на \"остаток\" генератора можно подействовать, например, циклом `for` или преобразовать его в список"
   ]
  },
  {
   "cell_type": "code",
   "execution_count": 16,
   "metadata": {},
   "outputs": [
    {
     "data": {
      "text/plain": [
       "[4, 9, 16, 25, 36, 49, 64]"
      ]
     },
     "execution_count": 16,
     "metadata": {},
     "output_type": "execute_result"
    }
   ],
   "source": [
    "list(g)"
   ]
  }
 ],
 "metadata": {
  "kernelspec": {
   "display_name": "Python 3 (ipykernel)",
   "language": "python",
   "name": "python3"
  },
  "language_info": {
   "codemirror_mode": {
    "name": "ipython",
    "version": 3
   },
   "file_extension": ".py",
   "mimetype": "text/x-python",
   "name": "python",
   "nbconvert_exporter": "python",
   "pygments_lexer": "ipython3",
   "version": "3.10.2"
  }
 },
 "nbformat": 4,
 "nbformat_minor": 4
}
