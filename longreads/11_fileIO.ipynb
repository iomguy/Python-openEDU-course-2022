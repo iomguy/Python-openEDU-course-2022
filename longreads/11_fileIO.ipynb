{
 "cells": [
  {
   "cell_type": "markdown",
   "metadata": {
    "pycharm": {
     "name": "#%% md\n"
    }
   },
   "source": [
    "# Работа с файловой системой\n",
    "В этом лонгриде рассмотрим, как с помощью Python работать с файлами на жёстком диске"
   ]
  },
  {
   "cell_type": "markdown",
   "metadata": {},
   "source": [
    "## Открытие файла\n",
    "\n",
    "Основной метод при работе с файлами - `open`.\n",
    "Он позволяет открыть файл в нужном режиме.\n",
    "\n",
    "```python\n",
    "fileobj = open(filename, mode, coding)\n",
    "```\n",
    "\n",
    "`filename` - путь к файлу\n",
    "\n",
    "`coding` - кодировка, используемая в файле (ASCII, UTF-8, CP1251 и др.)\n",
    "\n",
    "`mode` — это строка, указывающая на тип файла и действия, которые вы хотите над ним произвести.\n",
    "Первая буква строки mode указывает на операцию:\n",
    "* **r** - чтение;\n",
    "* **w** - запись. Если файла не существует, он будет создан. Если файл существует, он будет перезаписан;\n",
    "* **x** - запись, но только если файла еще не существует;\n",
    "* **a** - добавление данных в конец файла, если он существует.\n",
    "\n",
    "Вторая буква строки mode указывает на тип файла:\n",
    "* **t** (или ничего) - файл текстовый (практически всегда работаем с ними);\n",
    "* **b** - файл бинарный\n",
    "\n",
    "|          Режим          |  r   |  r+  |  w   |  w+  |  a   |  a+  |\n",
    "| :--------------------: | :--: | :--: | :--: | :--: | :--: | :--: |\n",
    "|          Чтение          |  +   |  +   |      |  +   |      |  +   |\n",
    "|         Запись          |      |  +   |  +   |  +   |  +   |  +   |\n",
    "|         Создание         |      |      |  +   |  +   |  +   |  +   |\n",
    "|         Перезапись          |      |      |  +   |  +   |      |      |\n",
    "| Курор в начале |  +   |  +   |  +   |  +   |      |      |\n",
    "|    Курсор в конце    |      |      |      |      |  +   |  +   |\n",
    "\n",
    "Какой режим использовать?\n",
    "<img src=\"imgs/fileIO.png\" width=\"600\"/>"
   ]
  },
  {
   "cell_type": "markdown",
   "metadata": {
    "pycharm": {
     "name": "#%% md\n"
    }
   },
   "source": [
    "## Что такое байтовые файлы / строки?\n",
    "Это обычные файлы, разбивающиеся на куски равного размера в двоичной / шестнадцатиричной / двоичной системе.\n",
    "\n",
    "`00000000  89 50 4e 47 0d 0a 1a 0a  00 00 00 0d 49 48 44 52  |.PNG........IHDR|`\n",
    "\n",
    "`00000010  00 00 00 87 00 00 00 a0  08 03 00 00 00 11 90 8f  |................|`\n",
    "\n",
    "`00000020  b6 00 00 00 04 67 41 4d  41 00 00 d6 d8 d4 4f 58  |.....gAMA.....OX|`\n",
    "\n",
    "`00000030  32 00 00 00 19 74 45 58  74 53 6f 66 74 77 61 72  |2....tEXtSoftwar|`\n",
    "\n",
    "`00000040  65 00 41 64 6f 62 65 20  49 6d 61 67 65 52 65 61  |e.Adobe ImageRea|`"
   ]
  },
  {
   "cell_type": "markdown",
   "metadata": {},
   "source": [
    "## Чтение и запись в файл\n",
    "Чтение и запись осуществляются с помощью методов `read()` и `write()`, соответственно"
   ]
  },
  {
   "cell_type": "code",
   "execution_count": 1,
   "metadata": {},
   "outputs": [],
   "source": [
    "# откроем файл для перезаписи или создадим новый для записи\n",
    "file = open(r'text_files\\new_file.txt', 'r+')"
   ]
  },
  {
   "cell_type": "code",
   "execution_count": 2,
   "metadata": {
    "scrolled": false
   },
   "outputs": [
    {
     "data": {
      "text/plain": [
       "''"
      ]
     },
     "execution_count": 2,
     "metadata": {},
     "output_type": "execute_result"
    }
   ],
   "source": [
    "# прочитаем файл\n",
    "file.read()"
   ]
  },
  {
   "cell_type": "code",
   "execution_count": 3,
   "metadata": {},
   "outputs": [],
   "source": [
    "py_zen='''Beautiful is better than ugly.\n",
    "Explicit is better than implicit.\n",
    "Simple is better than complex.\n",
    "Complex is better than complicated.\n",
    "Flat is better than nested.\n",
    "Sparse is better than dense.\n",
    "Readability counts.\n",
    "Special cases aren't special enough to break the rules.\n",
    "Although practicality beats purity.\n",
    "Errors should never pass silently.\n",
    "Unless explicitly silenced.\n",
    "In the face of ambiguity, refuse the temptation to guess.\n",
    "There should be one-- and preferably only one --obvious way to do it.\n",
    "Although that way may not be obvious at first unless you're Dutch.\n",
    "Now is better than never.\n",
    "Although never is often better than *right* now.\n",
    "If the implementation is hard to explain, it's a bad idea.\n",
    "If the implementation is easy to explain, it may be a good idea.\n",
    "Namespaces are one honking great idea -- let's do more of those!'''"
   ]
  },
  {
   "cell_type": "code",
   "execution_count": 4,
   "metadata": {},
   "outputs": [
    {
     "data": {
      "text/plain": [
       "822"
      ]
     },
     "execution_count": 4,
     "metadata": {},
     "output_type": "execute_result"
    }
   ],
   "source": [
    "# функция write записывает строку в файл и возвращает число записанных в него символов\n",
    "file.write(py_zen)"
   ]
  },
  {
   "cell_type": "code",
   "execution_count": 5,
   "metadata": {},
   "outputs": [],
   "source": [
    "# важно в конце работы файл закрыть, иначе он так и останется висеть открытым в процессе Python, \n",
    "# и придётся вырубать процесс через диспетчер задач\n",
    "file.close()"
   ]
  },
  {
   "cell_type": "markdown",
   "metadata": {},
   "source": [
    "## Ещё раз про чтение из файла"
   ]
  },
  {
   "cell_type": "code",
   "execution_count": 6,
   "metadata": {},
   "outputs": [
    {
     "name": "stdout",
     "output_type": "stream",
     "text": [
      "Beautiful is better than ugly.\n",
      "Explicit is better than implicit.\n",
      "Simple is better than complex.\n",
      "Complex is better than complicated.\n",
      "Flat is better than nested.\n",
      "Sparse is better than dense.\n",
      "Readability counts.\n",
      "Special cases aren't special enough to break the rules.\n",
      "Although practicality beats purity.\n",
      "Errors should never pass silently.\n",
      "Unless explicitly silenced.\n",
      "In the face of ambiguity, refuse the temptation to guess.\n",
      "There should be one-- and preferably only one --obvious way to do it.\n",
      "Although that way may not be obvious at first unless you're Dutch.\n",
      "Now is better than never.\n",
      "Although never is often better than *right* now.\n",
      "If the implementation is hard to explain, it's a bad idea.\n",
      "If the implementation is easy to explain, it may be a good idea.\n",
      "Namespaces are one honking great idea -- let's do more of those!\n"
     ]
    }
   ],
   "source": [
    "file = open(r'text_files\\new_file.txt', 'r')\n",
    "text = file.read()\n",
    "print(text)\n",
    "file.close()"
   ]
  },
  {
   "cell_type": "markdown",
   "metadata": {},
   "source": [
    "Сначала функция поищет файл, считая название как относительный путь. Если не найдёт, то попробует как абсолютный.\n",
    "\n",
    "Пути вводятся через `/` в Unix и через `\\` в Windows.\n",
    "\n",
    "Поэтому не забудьте указать Python, что ему не нужно искать в строке спецсимволы или регулярные выражения, иначе в строке ниже он начнёт искать `\\U`, `\\i` и т.д.\n",
    "\n",
    "Для этого поставьте перед строкой модификатор `r` (т.е. raw string - сырая строка)"
   ]
  },
  {
   "cell_type": "code",
   "execution_count": 7,
   "metadata": {},
   "outputs": [
    {
     "ename": "FileNotFoundError",
     "evalue": "[Errno 2] No such file or directory: 'C:\\\\Users\\\\Alex\\\\Python\\\\new_file.txt'",
     "output_type": "error",
     "traceback": [
      "\u001b[1;31m---------------------------------------------------------------------------\u001b[0m",
      "\u001b[1;31mFileNotFoundError\u001b[0m                         Traceback (most recent call last)",
      "Cell \u001b[1;32mIn [7], line 4\u001b[0m\n\u001b[0;32m      1\u001b[0m \u001b[38;5;66;03m# будьте аккуратными с \"абсолютными путями\"\u001b[39;00m\n\u001b[0;32m      2\u001b[0m \u001b[38;5;66;03m# при переносе кода на другой компьютер, путь изменится, и вы получите ошибку\u001b[39;00m\n\u001b[0;32m      3\u001b[0m \u001b[38;5;66;03m# например, у Вас не заработает тот путь, который работает на моём компьютере\u001b[39;00m\n\u001b[1;32m----> 4\u001b[0m file \u001b[38;5;241m=\u001b[39m \u001b[38;5;28;43mopen\u001b[39;49m\u001b[43m(\u001b[49m\u001b[38;5;124;43mr\u001b[39;49m\u001b[38;5;124;43m'\u001b[39;49m\u001b[38;5;124;43mC:\u001b[39;49m\u001b[38;5;124;43m\\\u001b[39;49m\u001b[38;5;124;43mUsers\u001b[39;49m\u001b[38;5;124;43m\\\u001b[39;49m\u001b[38;5;124;43mAlex\u001b[39;49m\u001b[38;5;124;43m\\\u001b[39;49m\u001b[38;5;124;43mPython\u001b[39;49m\u001b[38;5;124;43m\\\u001b[39;49m\u001b[38;5;124;43mnew_file.txt\u001b[39;49m\u001b[38;5;124;43m'\u001b[39;49m\u001b[43m,\u001b[49m\u001b[43m \u001b[49m\u001b[38;5;124;43m'\u001b[39;49m\u001b[38;5;124;43mr\u001b[39;49m\u001b[38;5;124;43m'\u001b[39;49m\u001b[43m)\u001b[49m\n",
      "File \u001b[1;32m~\\AppData\\Local\\Packages\\PythonSoftwareFoundation.Python.3.10_qbz5n2kfra8p0\\LocalCache\\local-packages\\Python310\\site-packages\\IPython\\core\\interactiveshell.py:282\u001b[0m, in \u001b[0;36m_modified_open\u001b[1;34m(file, *args, **kwargs)\u001b[0m\n\u001b[0;32m    275\u001b[0m \u001b[38;5;28;01mif\u001b[39;00m file \u001b[38;5;129;01min\u001b[39;00m {\u001b[38;5;241m0\u001b[39m, \u001b[38;5;241m1\u001b[39m, \u001b[38;5;241m2\u001b[39m}:\n\u001b[0;32m    276\u001b[0m     \u001b[38;5;28;01mraise\u001b[39;00m \u001b[38;5;167;01mValueError\u001b[39;00m(\n\u001b[0;32m    277\u001b[0m         \u001b[38;5;124mf\u001b[39m\u001b[38;5;124m\"\u001b[39m\u001b[38;5;124mIPython won\u001b[39m\u001b[38;5;124m'\u001b[39m\u001b[38;5;124mt let you open fd=\u001b[39m\u001b[38;5;132;01m{\u001b[39;00mfile\u001b[38;5;132;01m}\u001b[39;00m\u001b[38;5;124m by default \u001b[39m\u001b[38;5;124m\"\u001b[39m\n\u001b[0;32m    278\u001b[0m         \u001b[38;5;124m\"\u001b[39m\u001b[38;5;124mas it is likely to crash IPython. If you know what you are doing, \u001b[39m\u001b[38;5;124m\"\u001b[39m\n\u001b[0;32m    279\u001b[0m         \u001b[38;5;124m\"\u001b[39m\u001b[38;5;124myou can use builtins\u001b[39m\u001b[38;5;124m'\u001b[39m\u001b[38;5;124m open.\u001b[39m\u001b[38;5;124m\"\u001b[39m\n\u001b[0;32m    280\u001b[0m     )\n\u001b[1;32m--> 282\u001b[0m \u001b[38;5;28;01mreturn\u001b[39;00m io_open(file, \u001b[38;5;241m*\u001b[39margs, \u001b[38;5;241m*\u001b[39m\u001b[38;5;241m*\u001b[39mkwargs)\n",
      "\u001b[1;31mFileNotFoundError\u001b[0m: [Errno 2] No such file or directory: 'C:\\\\Users\\\\Alex\\\\Python\\\\new_file.txt'"
     ]
    }
   ],
   "source": [
    "# будьте аккуратными с \"абсолютными путями\"\n",
    "# при переносе кода на другой компьютер, путь изменится, и вы получите ошибку\n",
    "# например, у Вас не заработает тот путь, который работает на моём компьютере\n",
    "file = open(r'C:\\Users\\Alex\\Python\\new_file.txt', 'r')"
   ]
  },
  {
   "cell_type": "markdown",
   "metadata": {},
   "source": [
    "## Построчное чтение\n",
    "Файлы интернет-страниц или результатов расчётов могут быть объёмнами и не помещаться в оперативной памяти. \n",
    "\n",
    "3-4 Гб файл с результатами расчётов встречается нечасто, но, например для физика-исследователя такой сценарий вполне реален.\n",
    "\n",
    "Для работы с подобными файлами можно использовать метод построчного чтения файла `readline()`"
   ]
  },
  {
   "cell_type": "code",
   "execution_count": 8,
   "metadata": {},
   "outputs": [
    {
     "name": "stdout",
     "output_type": "stream",
     "text": [
      "32\n",
      "Beautiful is better than ugly.\n",
      "\n",
      "67\n",
      "Explicit is better than implicit.\n",
      "\n",
      "99\n",
      "Simple is better than complex.\n",
      "\n",
      "136\n",
      "Complex is better than complicated.\n",
      "\n",
      "165\n",
      "Flat is better than nested.\n",
      "\n",
      "195\n",
      "Sparse is better than dense.\n",
      "\n",
      "216\n",
      "Readability counts.\n",
      "\n",
      "273\n",
      "Special cases aren't special enough to break the rules.\n",
      "\n",
      "310\n",
      "Although practicality beats purity.\n",
      "\n",
      "346\n",
      "Errors should never pass silently.\n",
      "\n",
      "375\n",
      "Unless explicitly silenced.\n",
      "\n",
      "434\n",
      "In the face of ambiguity, refuse the temptation to guess.\n",
      "\n",
      "505\n",
      "There should be one-- and preferably only one --obvious way to do it.\n",
      "\n",
      "573\n",
      "Although that way may not be obvious at first unless you're Dutch.\n",
      "\n",
      "600\n",
      "Now is better than never.\n",
      "\n",
      "650\n",
      "Although never is often better than *right* now.\n",
      "\n",
      "710\n",
      "If the implementation is hard to explain, it's a bad idea.\n",
      "\n",
      "776\n",
      "If the implementation is easy to explain, it may be a good idea.\n",
      "\n",
      "840\n",
      "Namespaces are one honking great idea -- let's do more of those!\n",
      "0\n",
      "\n"
     ]
    }
   ],
   "source": [
    "file = open(r'text_files\\new_file.txt', 'r')\n",
    "\n",
    "while True:\n",
    "    # можно работать с ним построчно\n",
    "    line = file.readline()\n",
    "    if not line:\n",
    "        break\n",
    "    else:            \n",
    "        # метод tell показывает позицию курсора в файле\n",
    "        print(file.tell())\n",
    "        print(line)\n",
    "\n",
    "# метод seek меняет позицию курсора в файле\n",
    "file.seek(0)\n",
    "print(file.tell())\n",
    "print(line)\n",
    "\n",
    "file.close()"
   ]
  },
  {
   "cell_type": "markdown",
   "metadata": {},
   "source": [
    "## Менеджеры контекста with ... as\n",
    "При работе с файлами программисту требуется закрыть файл после работы с ним при любом сценарии - даже при возникновении ошибок и вызове исключений.\n",
    "\n",
    "Чтобы не использовать для этого каждый раз конструкцию **try-except-finally**, в Python3 есть возможность \"обернуть\" ваш код некоторым менеджером, который заменит блок `finally` и обязательно выполнит определённую команду после выполнения кода.\n",
    "\n",
    "Удобноство `with ... as` состоит в том, что при работе с функцией `open` в качестве такой команды будет всегда выполняться закрытие файла.\n",
    "\n",
    "\n",
    "```python\n",
    "with expression as target:\n",
    "\n",
    "    code\n",
    "```"
   ]
  },
  {
   "cell_type": "code",
   "execution_count": 9,
   "metadata": {
    "scrolled": true
   },
   "outputs": [
    {
     "name": "stdout",
     "output_type": "stream",
     "text": [
      "Beautiful is better than ugly.\n",
      "Explicit is better than implicit.\n",
      "Simple is better than complex.\n",
      "Complex is better than complicated.\n",
      "Flat is better than nested.\n",
      "Sparse is better than dense.\n",
      "Readability counts.\n",
      "Special cases aren't special enough to break the rules.\n",
      "Although practicality beats purity.\n",
      "Errors should never pass silently.\n",
      "Unless explicitly silenced.\n",
      "In the face of ambiguity, refuse the temptation to guess.\n",
      "There should be one-- and preferably only one --obvious way to do it.\n",
      "Although that way may not be obvious at first unless you're Dutch.\n",
      "Now is better than never.\n",
      "Although never is often better than *right* now.\n",
      "If the implementation is hard to explain, it's a bad idea.\n",
      "If the implementation is easy to explain, it may be a good idea.\n",
      "Namespaces are one honking great idea -- let's do more of those!\n"
     ]
    }
   ],
   "source": [
    "# например, этот файл будет обязательно закрыт \n",
    "# после выполнения всего кода под конструкцией with ... as\n",
    "with open(r'text_files/new_file.txt', 'r', encoding='utf-8') as file:\n",
    "    text = file.read()\n",
    "    print(text)"
   ]
  },
  {
   "cell_type": "code",
   "execution_count": 10,
   "metadata": {},
   "outputs": [
    {
     "ename": "ValueError",
     "evalue": "I/O operation on closed file.",
     "output_type": "error",
     "traceback": [
      "\u001b[1;31m---------------------------------------------------------------------------\u001b[0m",
      "\u001b[1;31mValueError\u001b[0m                                Traceback (most recent call last)",
      "Cell \u001b[1;32mIn [10], line 2\u001b[0m\n\u001b[0;32m      1\u001b[0m \u001b[38;5;66;03m# файл уже закрыт, прочитать его не получится, не открыв его заново\u001b[39;00m\n\u001b[1;32m----> 2\u001b[0m \u001b[43mfile\u001b[49m\u001b[38;5;241;43m.\u001b[39;49m\u001b[43mread\u001b[49m\u001b[43m(\u001b[49m\u001b[43m)\u001b[49m\n",
      "\u001b[1;31mValueError\u001b[0m: I/O operation on closed file."
     ]
    }
   ],
   "source": [
    "# файл уже закрыт, прочитать его не получится, не открыв его заново\n",
    "file.read()"
   ]
  },
  {
   "cell_type": "markdown",
   "metadata": {},
   "source": [
    "## Структурированные файлы\n",
    "Python умеет работать и с файлами, устроенными более сложным образом:\n",
    "* .csv\n",
    "* XML\n",
    "* HTML\n",
    "* JSON\n",
    "* YAML\n",
    "* и др.\n",
    "\n",
    "Для работы с такими файлами лучше всего найти библиотеку (встроенную или стороннюю), которая умеет с ними работать."
   ]
  },
  {
   "cell_type": "code",
   "execution_count": 11,
   "metadata": {},
   "outputs": [
    {
     "data": {
      "text/plain": [
       "[['col1;col2;col3'], ['val1;val2;val3'], ['1;2;3']]"
      ]
     },
     "execution_count": 11,
     "metadata": {},
     "output_type": "execute_result"
    }
   ],
   "source": [
    "# например, Python умеет \"из коробки\" работать с .csv-файлами\n",
    "import csv\n",
    "with open(r'text_files/new_file.csv', 'r') as file:\n",
    "    csv_text = csv.reader(file)\n",
    "    acc = [row for row in csv_text] \n",
    "          \n",
    "acc"
   ]
  },
  {
   "cell_type": "code",
   "execution_count": 12,
   "metadata": {},
   "outputs": [
    {
     "data": {
      "text/html": [
       "<div>\n",
       "<style scoped>\n",
       "    .dataframe tbody tr th:only-of-type {\n",
       "        vertical-align: middle;\n",
       "    }\n",
       "\n",
       "    .dataframe tbody tr th {\n",
       "        vertical-align: top;\n",
       "    }\n",
       "\n",
       "    .dataframe thead th {\n",
       "        text-align: right;\n",
       "    }\n",
       "</style>\n",
       "<table border=\"1\" class=\"dataframe\">\n",
       "  <thead>\n",
       "    <tr style=\"text-align: right;\">\n",
       "      <th></th>\n",
       "      <th>col1</th>\n",
       "      <th>col2</th>\n",
       "      <th>col3</th>\n",
       "    </tr>\n",
       "  </thead>\n",
       "  <tbody>\n",
       "    <tr>\n",
       "      <th>0</th>\n",
       "      <td>val1</td>\n",
       "      <td>val2</td>\n",
       "      <td>val3</td>\n",
       "    </tr>\n",
       "    <tr>\n",
       "      <th>1</th>\n",
       "      <td>1</td>\n",
       "      <td>2</td>\n",
       "      <td>3</td>\n",
       "    </tr>\n",
       "  </tbody>\n",
       "</table>\n",
       "</div>"
      ],
      "text/plain": [
       "   col1  col2  col3\n",
       "0  val1  val2  val3\n",
       "1     1     2     3"
      ]
     },
     "execution_count": 12,
     "metadata": {},
     "output_type": "execute_result"
    }
   ],
   "source": [
    "# но разумнее установить для этого библиотеку Pandas (от англ. Pan Dataset)\n",
    "# которая будет рассмотрена в следующей лекции\n",
    "import pandas as pd\n",
    "data = pd.read_csv(r'text_files/new_file.csv', sep=';')\n",
    "data"
   ]
  }
 ],
 "metadata": {
  "kernelspec": {
   "display_name": "Python 3 (ipykernel)",
   "language": "python",
   "name": "python3"
  },
  "language_info": {
   "codemirror_mode": {
    "name": "ipython",
    "version": 3
   },
   "file_extension": ".py",
   "mimetype": "text/x-python",
   "name": "python",
   "nbconvert_exporter": "python",
   "pygments_lexer": "ipython3",
   "version": "3.10.8"
  },
  "varInspector": {
   "cols": {
    "lenName": 16,
    "lenType": 16,
    "lenVar": 40
   },
   "kernels_config": {
    "python": {
     "delete_cmd_postfix": "",
     "delete_cmd_prefix": "del ",
     "library": "var_list.py",
     "varRefreshCmd": "print(var_dic_list())"
    },
    "r": {
     "delete_cmd_postfix": ") ",
     "delete_cmd_prefix": "rm(",
     "library": "var_list.r",
     "varRefreshCmd": "cat(var_dic_list()) "
    }
   },
   "types_to_exclude": [
    "module",
    "function",
    "builtin_function_or_method",
    "instance",
    "_Feature"
   ],
   "window_display": false
  },
  "vscode": {
   "interpreter": {
    "hash": "7b1f2b33e866b0bf2409397e5f58ba9cdf170d3b7f64c8f359c79998e2f88ad4"
   }
  }
 },
 "nbformat": 4,
 "nbformat_minor": 2
}
