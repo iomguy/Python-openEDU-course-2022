{
 "cells": [
  {
   "cell_type": "markdown",
   "metadata": {
    "collapsed": true
   },
   "source": [
    "# Типы данных\n",
    "В этом лонгриде кратко рассмотрим простейшие встроенные в Python типы данных. \n",
    "\n",
    "(простейшие - по сравнению с составными данными (структурами), которые рассмотрим позднее)\n",
    "\n",
    "**Простейшие типы данных Python**\n",
    "\n",
    "| Тип     | Пример    | Описание                  |\n",
    "|----------|------------|------------------------------|\n",
    "| `int`      | x = 1      | целые числа                  |\n",
    "| `float`    | x = 1.0    | числа с плавающей запятой    |\n",
    "| `complex`  | x = 1 + 2j | комплексные числа            |\n",
    "| `bool`     | x = True   | логические (булевы) значения |\n",
    "| `str`      | x = 'abc'  | строки: символы или текст    |\n",
    "| `NoneType` | x = None   | спец. \"пустой\" объект None   |\n",
    "\n",
    "Эти типы, как и всё в Python (функции, крупные структуры данных и программы) - реализованы как объекты: сущности, к которым применимы методы и основные принципы объектно-ориентированного программирования (также обсудим позднее).\n",
    "\n",
    "В Python все сущности являются экземплярами какого-то класса - объектами.\n",
    "\n",
    "Типы и структуры данных - не исключение.\n",
    "\n",
    "Узнать, какому классу принадлежит, например, объект **x**, можно с помощью функции **type**, как показано ниже"
   ]
  },
  {
   "cell_type": "markdown",
   "metadata": {},
   "source": [
    "Начнём в с переменных типа **int**"
   ]
  },
  {
   "cell_type": "markdown",
   "metadata": {},
   "source": [
    "# Integers\n",
    "\n",
    "Целые числа - простейший тип. Любое число без точки - это Integer (**int**)"
   ]
  },
  {
   "cell_type": "code",
   "execution_count": 1,
   "metadata": {},
   "outputs": [
    {
     "data": {
      "text/plain": [
       "int"
      ]
     },
     "execution_count": 1,
     "metadata": {},
     "output_type": "execute_result"
    }
   ],
   "source": [
    "x = 1\n",
    "type(x)"
   ]
  },
  {
   "cell_type": "markdown",
   "metadata": {},
   "source": [
    "Переменные в Python не нуждаются в обязательном их объявлении для выделения им памяти, т.е. не нужно писать ``int x``\n",
    "\n",
    "Кстати, удаление объектов из памяти происходит автоматически (не нужно постоянно писать `del x`, когда он вам больше не нужен), хотя в Python и есть возможность делать это и самостоятельно.\n",
    "\n",
    "Объявление (присваивание, назначение и т.п.) переменной и выделение памяти для хранения её значения выполняется в тот момент, когда вы присваиваете значение этой переменной.\n",
    "\n",
    "Для этого используется символ равенства (=)"
   ]
  },
  {
   "cell_type": "markdown",
   "metadata": {},
   "source": [
    "**int** в Python обладают переменной длиной. Поэтому, в отличие, например, от языков, проде **С**, вы сможете сделать $2^{200}$:"
   ]
  },
  {
   "cell_type": "code",
   "execution_count": 2,
   "metadata": {},
   "outputs": [
    {
     "data": {
      "text/plain": [
       "1606938044258990275541962092341162602522202993782792835301376"
      ]
     },
     "execution_count": 2,
     "metadata": {},
     "output_type": "execute_result"
    }
   ],
   "source": [
    "2 ** 200"
   ]
  },
  {
   "cell_type": "code",
   "execution_count": 3,
   "metadata": {},
   "outputs": [],
   "source": [
    "# присваивая переменной значение другой переменной, вы создаёте ссылку на объект\n",
    "n = 300\n",
    "m = n"
   ]
  },
  {
   "cell_type": "markdown",
   "metadata": {},
   "source": [
    "![title](imgs/references.png)"
   ]
  },
  {
   "cell_type": "markdown",
   "metadata": {},
   "source": [
    "**m** и **n** указывают на одну и ту же область памяти, в которой хранится значение \"300\".\n",
    "\n",
    "Можно проверить это, напечатав идентификатор объекта в интерпретаторе Python с помощью функции `id()`"
   ]
  },
  {
   "cell_type": "code",
   "execution_count": 4,
   "metadata": {},
   "outputs": [
    {
     "name": "stdout",
     "output_type": "stream",
     "text": [
      "4389626288\n",
      "4389626288\n"
     ]
    }
   ],
   "source": [
    "print(id(n))\n",
    "print(id(m))"
   ]
  },
  {
   "cell_type": "code",
   "execution_count": 5,
   "metadata": {},
   "outputs": [
    {
     "data": {
      "text/plain": [
       "True"
      ]
     },
     "execution_count": 5,
     "metadata": {},
     "output_type": "execute_result"
    }
   ],
   "source": [
    "# проверить, ссылаются ли переменные на один и тот же объект в памяти, \n",
    "# можно с помощью функции is()\n",
    "m is n"
   ]
  },
  {
   "cell_type": "markdown",
   "metadata": {},
   "source": [
    "Совпадают.\n",
    "\n",
    "Однако, т.к. **int** - неизменяемый тип данных, изменив одну из переменных, мы сделаем её указателем на другой объект в памяти.\n",
    "\n",
    "После этого изменение одной из переменных не будут влиять на другую"
   ]
  },
  {
   "cell_type": "code",
   "execution_count": 6,
   "metadata": {},
   "outputs": [
    {
     "name": "stdout",
     "output_type": "stream",
     "text": [
      "301\n",
      "300\n"
     ]
    }
   ],
   "source": [
    "m += 1\n",
    "print(m)\n",
    "print(n)"
   ]
  },
  {
   "cell_type": "code",
   "execution_count": 7,
   "metadata": {},
   "outputs": [
    {
     "name": "stdout",
     "output_type": "stream",
     "text": [
      "4389626288\n",
      "4389630096\n",
      "False\n"
     ]
    }
   ],
   "source": [
    "# теперь переменные указывают на разные объекты в памяти\n",
    "print(id(n))\n",
    "print(id(m))\n",
    "print(m is n)"
   ]
  },
  {
   "cell_type": "markdown",
   "metadata": {},
   "source": [
    "# Float\n",
    "В отличие от Python2, в Python3 деление целых чисел может давать число с плавающей запятой (**float**)"
   ]
  },
  {
   "cell_type": "code",
   "execution_count": 8,
   "metadata": {},
   "outputs": [
    {
     "data": {
      "text/plain": [
       "2.5"
      ]
     },
     "execution_count": 8,
     "metadata": {},
     "output_type": "execute_result"
    }
   ],
   "source": [
    "5 / 2"
   ]
  },
  {
   "cell_type": "markdown",
   "metadata": {},
   "source": [
    "float могут записываться как в десятичной, так и в \"научной/экспоненциальной\" нотации, что эквивалентно:"
   ]
  },
  {
   "cell_type": "code",
   "execution_count": 9,
   "metadata": {},
   "outputs": [
    {
     "data": {
      "text/plain": [
       "True"
      ]
     },
     "execution_count": 9,
     "metadata": {},
     "output_type": "execute_result"
    }
   ],
   "source": [
    "x = 100500\n",
    "y = 1005e+2\n",
    "x == y"
   ]
  },
  {
   "cell_type": "markdown",
   "metadata": {},
   "source": [
    "т.к. по умолчанию Python использует именно тип **float** для дробных чисел (т.е. хранит приблизительные значения десятичных дробей), нужно аккуратно применять опеатор сравнения.\n",
    "\n",
    "Например, выражение ниже неожиданно окажется ложным"
   ]
  },
  {
   "cell_type": "code",
   "execution_count": 10,
   "metadata": {},
   "outputs": [
    {
     "data": {
      "text/plain": [
       "False"
      ]
     },
     "execution_count": 10,
     "metadata": {},
     "output_type": "execute_result"
    }
   ],
   "source": [
    "0.1 + 0.2 == 0.3"
   ]
  },
  {
   "cell_type": "markdown",
   "metadata": {},
   "source": [
    "потому что на деле, например, 0.1 хранится в памяти как:"
   ]
  },
  {
   "cell_type": "code",
   "execution_count": 11,
   "metadata": {},
   "outputs": [
    {
     "name": "stdout",
     "output_type": "stream",
     "text": [
      "0.1 = 0.10000000000000001\n"
     ]
    }
   ],
   "source": [
    "print(f\"0.1 = {0.1:.17f}\")"
   ]
  },
  {
   "cell_type": "markdown",
   "metadata": {},
   "source": [
    "**print(f\"...\")** позволяет подставлять удобно подставлять переменные в строки для их красивой печати"
   ]
  },
  {
   "cell_type": "markdown",
   "metadata": {},
   "source": [
    "# Comlex\n",
    "Если вам понадобятся комплексные числа в базовой реализации Python.\n",
    "\n",
    "Не забудьте, что мнимая единица в Pyhton - это **j**, а не **i**!"
   ]
  },
  {
   "cell_type": "code",
   "execution_count": 12,
   "metadata": {},
   "outputs": [
    {
     "data": {
      "text/plain": [
       "(3+4j)"
      ]
     },
     "execution_count": 12,
     "metadata": {},
     "output_type": "execute_result"
    }
   ],
   "source": [
    "complex(3, 4)"
   ]
  },
  {
   "cell_type": "code",
   "execution_count": 13,
   "metadata": {},
   "outputs": [],
   "source": [
    "a = complex(3, 4)"
   ]
  },
  {
   "cell_type": "code",
   "execution_count": 14,
   "metadata": {},
   "outputs": [
    {
     "data": {
      "text/plain": [
       "3.0"
      ]
     },
     "execution_count": 14,
     "metadata": {},
     "output_type": "execute_result"
    }
   ],
   "source": [
    "a.real"
   ]
  },
  {
   "cell_type": "code",
   "execution_count": 15,
   "metadata": {},
   "outputs": [
    {
     "data": {
      "text/plain": [
       "4.0"
      ]
     },
     "execution_count": 15,
     "metadata": {},
     "output_type": "execute_result"
    }
   ],
   "source": [
    "a.imag"
   ]
  },
  {
   "cell_type": "code",
   "execution_count": 16,
   "metadata": {},
   "outputs": [
    {
     "data": {
      "text/plain": [
       "(3-4j)"
      ]
     },
     "execution_count": 16,
     "metadata": {},
     "output_type": "execute_result"
    }
   ],
   "source": [
    "a.conjugate()"
   ]
  },
  {
   "cell_type": "code",
   "execution_count": 17,
   "metadata": {},
   "outputs": [
    {
     "data": {
      "text/plain": [
       "5.0"
      ]
     },
     "execution_count": 17,
     "metadata": {},
     "output_type": "execute_result"
    }
   ],
   "source": [
    "abs(a)"
   ]
  },
  {
   "cell_type": "markdown",
   "metadata": {},
   "source": [
    "# String\n",
    "\n",
    "По-настоящему полезными для вас будут строки - последовательности символов.\n",
    "\n",
    "Один символ в Python - это тоже строка.\n",
    "\n",
    "Строки записываются в двойных или одинарных кавычках:"
   ]
  },
  {
   "cell_type": "code",
   "execution_count": 18,
   "metadata": {},
   "outputs": [
    {
     "data": {
      "text/plain": [
       "True"
      ]
     },
     "execution_count": 18,
     "metadata": {},
     "output_type": "execute_result"
    }
   ],
   "source": [
    "s1 = \"Some text\"\n",
    "s2 = 'Some text'\n",
    "s1==s2"
   ]
  },
  {
   "cell_type": "markdown",
   "metadata": {},
   "source": [
    "К строкам применимо большинство функций, которые затем будут применяться к словарям. Например, длина строки:"
   ]
  },
  {
   "cell_type": "code",
   "execution_count": 19,
   "metadata": {},
   "outputs": [
    {
     "data": {
      "text/plain": [
       "9"
      ]
     },
     "execution_count": 19,
     "metadata": {},
     "output_type": "execute_result"
    }
   ],
   "source": [
    "len(s1)"
   ]
  },
  {
   "cell_type": "markdown",
   "metadata": {},
   "source": [
    "## конкатенация (сложение) строк"
   ]
  },
  {
   "cell_type": "markdown",
   "metadata": {},
   "source": [
    "Python позволяет применять многие функции для разных типов, причём наиболее логичным образом.\n",
    "\n",
    "Например, \"сложение\" строк склеивает их"
   ]
  },
  {
   "cell_type": "code",
   "execution_count": 20,
   "metadata": {},
   "outputs": [
    {
     "data": {
      "text/plain": [
       "'Some text Some text'"
      ]
     },
     "execution_count": 20,
     "metadata": {},
     "output_type": "execute_result"
    }
   ],
   "source": [
    "s1 + \" \" + s2"
   ]
  },
  {
   "cell_type": "markdown",
   "metadata": {},
   "source": [
    "## умножение"
   ]
  },
  {
   "cell_type": "code",
   "execution_count": 21,
   "metadata": {},
   "outputs": [
    {
     "data": {
      "text/plain": [
       "'Some textSome textSome text'"
      ]
     },
     "execution_count": 21,
     "metadata": {},
     "output_type": "execute_result"
    }
   ],
   "source": [
    "s1*3"
   ]
  },
  {
   "cell_type": "markdown",
   "metadata": {},
   "source": [
    "## доступ по индексу"
   ]
  },
  {
   "cell_type": "code",
   "execution_count": 22,
   "metadata": {},
   "outputs": [
    {
     "data": {
      "text/plain": [
       "'S'"
      ]
     },
     "execution_count": 22,
     "metadata": {},
     "output_type": "execute_result"
    }
   ],
   "source": [
    "# индексирование всех коллекций в Python начинается с нуля!\n",
    "# индекс первого элемента - это 0\n",
    "s1[0]"
   ]
  },
  {
   "cell_type": "markdown",
   "metadata": {},
   "source": [
    "## срезы (слайсы)"
   ]
  },
  {
   "cell_type": "markdown",
   "metadata": {},
   "source": [
    "синтаксис, который применим ко всем упорядоченным коллекциям в Python:\n",
    "\n",
    "`переменная[начало_среза:конец_среза:шаг_среза]`"
   ]
  },
  {
   "cell_type": "code",
   "execution_count": 23,
   "metadata": {},
   "outputs": [
    {
     "data": {
      "text/plain": [
       "'ome text'"
      ]
     },
     "execution_count": 23,
     "metadata": {},
     "output_type": "execute_result"
    }
   ],
   "source": [
    "s1[1:9]"
   ]
  },
  {
   "cell_type": "code",
   "execution_count": 24,
   "metadata": {},
   "outputs": [
    {
     "data": {
      "text/plain": [
       "'oetx'"
      ]
     },
     "execution_count": 24,
     "metadata": {},
     "output_type": "execute_result"
    }
   ],
   "source": [
    "s1[1:9:2]"
   ]
  },
  {
   "cell_type": "code",
   "execution_count": 25,
   "metadata": {},
   "outputs": [
    {
     "data": {
      "text/plain": [
       "'txet emoS'"
      ]
     },
     "execution_count": 25,
     "metadata": {},
     "output_type": "execute_result"
    }
   ],
   "source": [
    "# можно развернуть строку наоборот\n",
    "s1[::-1]"
   ]
  },
  {
   "cell_type": "markdown",
   "metadata": {},
   "source": [
    "## преобразование типов"
   ]
  },
  {
   "cell_type": "code",
   "execution_count": 26,
   "metadata": {},
   "outputs": [
    {
     "data": {
      "text/plain": [
       "int"
      ]
     },
     "execution_count": 26,
     "metadata": {},
     "output_type": "execute_result"
    }
   ],
   "source": [
    "# другие типы могут быть явно преобразованы в строку с помощью функции str\n",
    "i = 4\n",
    "type(i)"
   ]
  },
  {
   "cell_type": "code",
   "execution_count": 27,
   "metadata": {},
   "outputs": [
    {
     "data": {
      "text/plain": [
       "'4'"
      ]
     },
     "execution_count": 27,
     "metadata": {},
     "output_type": "execute_result"
    }
   ],
   "source": [
    "j = str(i)\n",
    "j"
   ]
  },
  {
   "cell_type": "code",
   "execution_count": 28,
   "metadata": {},
   "outputs": [
    {
     "data": {
      "text/plain": [
       "str"
      ]
     },
     "execution_count": 28,
     "metadata": {},
     "output_type": "execute_result"
    }
   ],
   "source": [
    "type(j)"
   ]
  },
  {
   "cell_type": "markdown",
   "metadata": {},
   "source": [
    "## вхождение строк"
   ]
  },
  {
   "cell_type": "code",
   "execution_count": 29,
   "metadata": {},
   "outputs": [
    {
     "data": {
      "text/plain": [
       "True"
      ]
     },
     "execution_count": 29,
     "metadata": {},
     "output_type": "execute_result"
    }
   ],
   "source": [
    "# удобно проверить вхождение одной строки в другую с помощью оператора in\n",
    "\"Alex\" in \"Alex Kalyuzhnyuk\""
   ]
  },
  {
   "cell_type": "code",
   "execution_count": 30,
   "metadata": {},
   "outputs": [
    {
     "data": {
      "text/plain": [
       "False"
      ]
     },
     "execution_count": 30,
     "metadata": {},
     "output_type": "execute_result"
    }
   ],
   "source": [
    "\"Some other name\" in \"Alex Kalyuzhnyuk\""
   ]
  },
  {
   "cell_type": "markdown",
   "metadata": {},
   "source": [
    "Длинные строки можно создавать разными способами\n",
    "\n",
    "Отдадим дань уважения **стандарту написания кода PEP-8**, соблюдая рекомендованную длину строк."
   ]
  },
  {
   "cell_type": "code",
   "execution_count": 31,
   "metadata": {},
   "outputs": [
    {
     "data": {
      "text/plain": [
       "'Lorem ipsum dolor sit amet, consectetur adipiscing elit. Pellentesque eget tincidunt felis. Ut ac vestibulum est. In sed ipsum sit amet sapien scelerisque bibendum. Sed sagittis purus eu diam fermentum pellentesque.'"
      ]
     },
     "execution_count": 31,
     "metadata": {},
     "output_type": "execute_result"
    }
   ],
   "source": [
    "long_story = ('Lorem ipsum dolor sit amet, consectetur adipiscing elit. ' \n",
    "              'Pellentesque eget tincidunt felis. Ut ac vestibulum est. ' \n",
    "              'In sed ipsum sit amet sapien scelerisque bibendum. Sed ' \n",
    "              'sagittis purus eu diam fermentum pellentesque.')\n",
    "long_story"
   ]
  },
  {
   "cell_type": "markdown",
   "metadata": {},
   "source": [
    "с помощью `'''` можно ввести строку вместе с переносами (обозначаются спецсимволом `\\n`)"
   ]
  },
  {
   "cell_type": "code",
   "execution_count": 32,
   "metadata": {},
   "outputs": [
    {
     "data": {
      "text/plain": [
       "'\\nLorem ipsum dolor sit amet, consectetur adipiscing elit. \\nPellentesque eget tincidunt felis. Ut ac vestibulum est. \\nIn sed ipsum sit amet sapien scelerisque bibendum. Sed \\nsagittis purus eu diam fermentum pellentesque.'"
      ]
     },
     "execution_count": 32,
     "metadata": {},
     "output_type": "execute_result"
    }
   ],
   "source": [
    "long_story = '''\n",
    "Lorem ipsum dolor sit amet, consectetur adipiscing elit. \n",
    "Pellentesque eget tincidunt felis. Ut ac vestibulum est. \n",
    "In sed ipsum sit amet sapien scelerisque bibendum. Sed \n",
    "sagittis purus eu diam fermentum pellentesque.'''\n",
    "\n",
    "long_story"
   ]
  },
  {
   "cell_type": "markdown",
   "metadata": {},
   "source": [
    "## `str.upper(), str.lower(), str.title()`"
   ]
  },
  {
   "cell_type": "code",
   "execution_count": 33,
   "metadata": {},
   "outputs": [],
   "source": [
    "mixed_case = 'PyTHoN hackER'"
   ]
  },
  {
   "cell_type": "code",
   "execution_count": 34,
   "metadata": {},
   "outputs": [
    {
     "data": {
      "text/plain": [
       "'PYTHON HACKER'"
      ]
     },
     "execution_count": 34,
     "metadata": {},
     "output_type": "execute_result"
    }
   ],
   "source": [
    "mixed_case.upper()"
   ]
  },
  {
   "cell_type": "code",
   "execution_count": 35,
   "metadata": {},
   "outputs": [
    {
     "data": {
      "text/plain": [
       "'python hacker'"
      ]
     },
     "execution_count": 35,
     "metadata": {},
     "output_type": "execute_result"
    }
   ],
   "source": [
    "mixed_case.lower()"
   ]
  },
  {
   "cell_type": "code",
   "execution_count": 36,
   "metadata": {},
   "outputs": [
    {
     "data": {
      "text/plain": [
       "'Python Hacker'"
      ]
     },
     "execution_count": 36,
     "metadata": {},
     "output_type": "execute_result"
    }
   ],
   "source": [
    "# каждое слово - с заглавной буквы\n",
    "mixed_case.title()"
   ]
  },
  {
   "cell_type": "markdown",
   "metadata": {},
   "source": [
    "## `str.replace()`"
   ]
  },
  {
   "cell_type": "code",
   "execution_count": 37,
   "metadata": {},
   "outputs": [
    {
     "data": {
      "text/plain": [
       "'\\nLorem ??? dolor sit amet, consectetur adipiscing elit. \\nPellentesque eget tincidunt felis. Ut ac vestibulum est. \\nIn sed ??? sit amet sapien scelerisque bibendum. Sed \\nsagittis purus eu diam fermentum pellentesque.'"
      ]
     },
     "execution_count": 37,
     "metadata": {},
     "output_type": "execute_result"
    }
   ],
   "source": [
    "long_story.replace('ipsum', '???')"
   ]
  },
  {
   "cell_type": "markdown",
   "metadata": {},
   "source": [
    "## `str.format()`"
   ]
  },
  {
   "cell_type": "code",
   "execution_count": 38,
   "metadata": {},
   "outputs": [
    {
     "data": {
      "text/plain": [
       "'Extra string and Another string'"
      ]
     },
     "execution_count": 38,
     "metadata": {},
     "output_type": "execute_result"
    }
   ],
   "source": [
    "i = \"Extra string\"\n",
    "j = \"Another string\"\n",
    "\"{0} and {1}\".format(i, j)"
   ]
  },
  {
   "cell_type": "markdown",
   "metadata": {},
   "source": [
    "## `str.split()` разделение строк"
   ]
  },
  {
   "cell_type": "code",
   "execution_count": 39,
   "metadata": {},
   "outputs": [
    {
     "data": {
      "text/plain": [
       "['Alex', 'Kalyuzhnyuk', 'is', 'your', 'humble', 'lecturer']"
      ]
     },
     "execution_count": 39,
     "metadata": {},
     "output_type": "execute_result"
    }
   ],
   "source": [
    "# строки в Python очень удобно \"разрезать\" про символу или набору символов\n",
    "# с помощью функции split\n",
    "\n",
    "# например, разделим строку по пробелу\n",
    "# в результате вы получите список. О списках поговорим в другом ноутбуке\n",
    "\n",
    "\"Alex Kalyuzhnyuk is your humble lecturer\".split(\" \")"
   ]
  },
  {
   "cell_type": "code",
   "execution_count": 40,
   "metadata": {},
   "outputs": [
    {
     "data": {
      "text/plain": [
       "['Some text', 'More text', '']"
      ]
     },
     "execution_count": 40,
     "metadata": {},
     "output_type": "execute_result"
    }
   ],
   "source": [
    "# или по подстроке\n",
    "# т.к. она длинная, для удобства \"спрячу\" её в переменную s\n",
    "# чтобы конструкция со \"split\" не была громоздкой\n",
    "\n",
    "# обратный \"слэш\" позволяет разбить \n",
    "# длинную строку в Python-коде на две\n",
    "\n",
    "s = \\\n",
    "\"Some text and the end of the phrase. More text and the end of the phrase. \"\n",
    "\n",
    "s.split(\" and the end of the phrase. \")"
   ]
  },
  {
   "cell_type": "markdown",
   "metadata": {},
   "source": [
    "заметьте, что мы разделили строку на 3. \n",
    "\n",
    "Подстрока \" and the end of the phrase. \" разделила исходную строку на начало предложение и пустую строку '''' справа от неё"
   ]
  },
  {
   "cell_type": "markdown",
   "metadata": {},
   "source": [
    "## `str.join()` слияние строк\n",
    "Собрать много элементов в одну строку можно с помощью удобного метода `join()`.\n",
    "\n",
    "На вход `join()` передаётся строка-разделитель (например, запятая или точка с запятой).\n",
    "Затем все элементы объединяются в строку через этот разделитель.\n",
    "\n",
    "join достаточно умно реализован, чтобы не ставить разделитель в начале или в конце строки"
   ]
  },
  {
   "cell_type": "code",
   "execution_count": 41,
   "metadata": {},
   "outputs": [
    {
     "data": {
      "text/plain": [
       "'1; 2; 3; 4; 5'"
      ]
     },
     "execution_count": 41,
     "metadata": {},
     "output_type": "execute_result"
    }
   ],
   "source": [
    "# например, выведем последовательность 1,2,3,4,5 через точку с запятой с пробелом\n",
    "\"; \".join((\"1\",\"2\",\"3\",\"4\",\"5\"))"
   ]
  },
  {
   "cell_type": "code",
   "execution_count": 42,
   "metadata": {},
   "outputs": [
    {
     "ename": "TypeError",
     "evalue": "sequence item 0: expected str instance, int found",
     "output_type": "error",
     "traceback": [
      "\u001b[0;31m---------------------------------------------------------------------------\u001b[0m",
      "\u001b[0;31mTypeError\u001b[0m                                 Traceback (most recent call last)",
      "Input \u001b[0;32mIn [42]\u001b[0m, in \u001b[0;36m<cell line: 2>\u001b[0;34m()\u001b[0m\n\u001b[1;32m      1\u001b[0m \u001b[38;5;66;03m# это а если передать join числа, а не много строк?\u001b[39;00m\n\u001b[0;32m----> 2\u001b[0m \u001b[38;5;124;43m\"\u001b[39;49m\u001b[38;5;124;43m; \u001b[39;49m\u001b[38;5;124;43m\"\u001b[39;49m\u001b[38;5;241;43m.\u001b[39;49m\u001b[43mjoin\u001b[49m\u001b[43m(\u001b[49m\u001b[43m(\u001b[49m\u001b[38;5;241;43m1\u001b[39;49m\u001b[43m,\u001b[49m\u001b[38;5;241;43m2\u001b[39;49m\u001b[43m,\u001b[49m\u001b[38;5;241;43m3\u001b[39;49m\u001b[43m,\u001b[49m\u001b[38;5;241;43m4\u001b[39;49m\u001b[43m,\u001b[49m\u001b[38;5;241;43m5\u001b[39;49m\u001b[43m)\u001b[49m\u001b[43m)\u001b[49m\n",
      "\u001b[0;31mTypeError\u001b[0m: sequence item 0: expected str instance, int found"
     ]
    }
   ],
   "source": [
    "# это а если передать join числа, а не много строк?\n",
    "\"; \".join((1,2,3,4,5))"
   ]
  },
  {
   "cell_type": "markdown",
   "metadata": {},
   "source": [
    "не выходит - нужна или последовательность из строк, или нужно числа в эти строки преобразовать в с помощью функции str"
   ]
  },
  {
   "cell_type": "code",
   "execution_count": 43,
   "metadata": {},
   "outputs": [
    {
     "data": {
      "text/plain": [
       "'1; 2; 3; 4; 5'"
      ]
     },
     "execution_count": 43,
     "metadata": {},
     "output_type": "execute_result"
    }
   ],
   "source": [
    "# map применяет фукцию (например, str) ко всем элементам последовательности\n",
    "# подробнее мы изучим map позже\n",
    "\"; \".join(map(str, (1,2,3,4,5)))"
   ]
  },
  {
   "cell_type": "code",
   "execution_count": 44,
   "metadata": {},
   "outputs": [
    {
     "data": {
      "text/plain": [
       "'12345'"
      ]
     },
     "execution_count": 44,
     "metadata": {},
     "output_type": "execute_result"
    }
   ],
   "source": [
    "# как объединить много маленьких строк в одну?\n",
    "# с помощью join и пустого разделителя \"\"\n",
    "\"\".join((\"1\", \"2\", \"3\", \"4\", \"5\"))"
   ]
  },
  {
   "cell_type": "code",
   "execution_count": 45,
   "metadata": {},
   "outputs": [],
   "source": [
    "# выглядит глуповато\n",
    "# но это всё ещё один из самых эффективных способов\n",
    "# над чем шутит и сам создатель языка"
   ]
  },
  {
   "cell_type": "markdown",
   "metadata": {},
   "source": [
    "## применение нескольких операторов\n",
    "\n",
    "Несколько методов могут быть последовательно применены к объекту через символ точки.\n",
    "\n",
    "В примере ниже сначала обрежем лишние пробелы вокруг фразы, затем изменим регистр на нижний, а в конце поменяем подстроку `bad` на `good`"
   ]
  },
  {
   "cell_type": "code",
   "execution_count": 46,
   "metadata": {},
   "outputs": [
    {
     "name": "stdout",
     "output_type": "stream",
     "text": [
      "string looks good\n"
     ]
    }
   ],
   "source": [
    "ugly_mixed_case = '   STRiNG LooKs BAd '\n",
    "pretty = ugly_mixed_case.strip().lower().replace('bad', 'good')\n",
    "print(pretty)"
   ]
  },
  {
   "cell_type": "markdown",
   "metadata": {},
   "source": [
    "# None\n",
    "\n",
    "Иногда вам нужен тип, который будет обозначать дырку от бублика - ничего, пустоту.\n",
    "\n",
    "Нарпимер, тип, который будет выдавать функция, в которой вы не укажете **return** (функции будут позже)."
   ]
  },
  {
   "cell_type": "code",
   "execution_count": 47,
   "metadata": {},
   "outputs": [],
   "source": [
    "a = None"
   ]
  },
  {
   "cell_type": "code",
   "execution_count": 48,
   "metadata": {},
   "outputs": [
    {
     "data": {
      "text/plain": [
       "NoneType"
      ]
     },
     "execution_count": 48,
     "metadata": {},
     "output_type": "execute_result"
    }
   ],
   "source": [
    "type(a)"
   ]
  },
  {
   "cell_type": "markdown",
   "metadata": {},
   "source": [
    "Важно: None - это не то же самое, что False"
   ]
  },
  {
   "cell_type": "code",
   "execution_count": 49,
   "metadata": {},
   "outputs": [
    {
     "name": "stdout",
     "output_type": "stream",
     "text": [
      "a is None type\n"
     ]
    }
   ],
   "source": [
    "if a is None:\n",
    "    print(\"a is None type\")"
   ]
  },
  {
   "cell_type": "code",
   "execution_count": 50,
   "metadata": {},
   "outputs": [
    {
     "name": "stdout",
     "output_type": "stream",
     "text": [
      "False is not a None type\n",
      "None is not a Boolean type\n"
     ]
    }
   ],
   "source": [
    "if False is None:\n",
    "    print(\"False is a None type\")\n",
    "else:\n",
    "    print(\"False is not a None type\")\n",
    "    \n",
    "if None is False:\n",
    "    print(\"None is a Boolean type\")\n",
    "else:\n",
    "    print(\"None is not a Boolean type\")"
   ]
  },
  {
   "cell_type": "markdown",
   "metadata": {},
   "source": [
    "хотя None неявно преобразовывается к False, если подставить его в конструкцию, которая будет ожидать тип Boolean "
   ]
  },
  {
   "cell_type": "code",
   "execution_count": 51,
   "metadata": {},
   "outputs": [
    {
     "name": "stdout",
     "output_type": "stream",
     "text": [
      "None is converted to False (boolean type)\n"
     ]
    }
   ],
   "source": [
    "if None:\n",
    "    print(\"None is not converted to False (boolean type)\")\n",
    "else:\n",
    "    print(\"None is converted to False (boolean type)\")"
   ]
  },
  {
   "cell_type": "markdown",
   "metadata": {},
   "source": [
    "# Boolean\n",
    "Логическое значение (правда **True** или неправда **False**)\n"
   ]
  },
  {
   "cell_type": "code",
   "execution_count": 52,
   "metadata": {},
   "outputs": [],
   "source": [
    "# r - это результат приравнивания чисел 4 и 5\n",
    "r = (4 == 5)"
   ]
  },
  {
   "cell_type": "code",
   "execution_count": 53,
   "metadata": {},
   "outputs": [
    {
     "data": {
      "text/plain": [
       "False"
      ]
     },
     "execution_count": 53,
     "metadata": {},
     "output_type": "execute_result"
    }
   ],
   "source": [
    "# поэтому r будет являться ложью\n",
    "r"
   ]
  },
  {
   "cell_type": "markdown",
   "metadata": {},
   "source": [
    "Большинство других типов может быть преобазовано в `bool` с помощью функции `bool`:"
   ]
  },
  {
   "cell_type": "code",
   "execution_count": 54,
   "metadata": {},
   "outputs": [],
   "source": [
    "# например, любой int кроме 0 - это True:"
   ]
  },
  {
   "cell_type": "code",
   "execution_count": 55,
   "metadata": {},
   "outputs": [
    {
     "data": {
      "text/plain": [
       "True"
      ]
     },
     "execution_count": 55,
     "metadata": {},
     "output_type": "execute_result"
    }
   ],
   "source": [
    "bool(100500)"
   ]
  },
  {
   "cell_type": "code",
   "execution_count": 56,
   "metadata": {},
   "outputs": [
    {
     "data": {
      "text/plain": [
       "True"
      ]
     },
     "execution_count": 56,
     "metadata": {},
     "output_type": "execute_result"
    }
   ],
   "source": [
    "bool(1)"
   ]
  },
  {
   "cell_type": "code",
   "execution_count": 57,
   "metadata": {},
   "outputs": [
    {
     "data": {
      "text/plain": [
       "False"
      ]
     },
     "execution_count": 57,
     "metadata": {},
     "output_type": "execute_result"
    }
   ],
   "source": [
    "bool(0)"
   ]
  },
  {
   "cell_type": "code",
   "execution_count": 58,
   "metadata": {},
   "outputs": [
    {
     "data": {
      "text/plain": [
       "True"
      ]
     },
     "execution_count": 58,
     "metadata": {},
     "output_type": "execute_result"
    }
   ],
   "source": [
    "bool(-1)"
   ]
  },
  {
   "cell_type": "markdown",
   "metadata": {},
   "source": [
    "Любая непустая строка - это True"
   ]
  },
  {
   "cell_type": "code",
   "execution_count": 59,
   "metadata": {},
   "outputs": [
    {
     "data": {
      "text/plain": [
       "True"
      ]
     },
     "execution_count": 59,
     "metadata": {},
     "output_type": "execute_result"
    }
   ],
   "source": [
    "bool(\"Some not empty string\")"
   ]
  },
  {
   "cell_type": "code",
   "execution_count": 60,
   "metadata": {},
   "outputs": [
    {
     "data": {
      "text/plain": [
       "False"
      ]
     },
     "execution_count": 60,
     "metadata": {},
     "output_type": "execute_result"
    }
   ],
   "source": [
    "bool(\"\")"
   ]
  },
  {
   "cell_type": "code",
   "execution_count": 61,
   "metadata": {},
   "outputs": [
    {
     "data": {
      "text/plain": [
       "True"
      ]
     },
     "execution_count": 61,
     "metadata": {},
     "output_type": "execute_result"
    }
   ],
   "source": [
    "# то же самое с непустым списком:\n",
    "bool([1,2,3])"
   ]
  },
  {
   "cell_type": "code",
   "execution_count": 62,
   "metadata": {},
   "outputs": [
    {
     "data": {
      "text/plain": [
       "False"
      ]
     },
     "execution_count": 62,
     "metadata": {},
     "output_type": "execute_result"
    }
   ],
   "source": [
    "bool([])"
   ]
  },
  {
   "cell_type": "code",
   "execution_count": 63,
   "metadata": {},
   "outputs": [
    {
     "data": {
      "text/plain": [
       "False"
      ]
     },
     "execution_count": 63,
     "metadata": {},
     "output_type": "execute_result"
    }
   ],
   "source": [
    "bool(None)"
   ]
  },
  {
   "cell_type": "markdown",
   "metadata": {},
   "source": [
    "Для удобства записи эти типы неявно (без указания функции `bool()`) преобразовываются к типу Boolean, попадая в конструкции, в которых ожидается именно **Boolean**. Например, если попадают в конструкцию **if-else**.\n",
    "\n",
    "Однако, согласно соглашению [PEP-8](https://pep8.org/), это плохой стиль написания кода, т.к. реализация того, какой объект будет неявно преобразован к True, а какой к False может меняться в зависимости от версии языка"
   ]
  },
  {
   "cell_type": "code",
   "execution_count": 64,
   "metadata": {},
   "outputs": [
    {
     "name": "stdout",
     "output_type": "stream",
     "text": [
      "That string was handled as Boolean = True\n"
     ]
    }
   ],
   "source": [
    "if \"That's a string! Bot boolean. However...\":\n",
    "    print(\"That string was handled as Boolean = True\")\n",
    "else:\n",
    "    print(\"That string was not handled as False\")"
   ]
  },
  {
   "cell_type": "code",
   "execution_count": 65,
   "metadata": {},
   "outputs": [
    {
     "name": "stdout",
     "output_type": "stream",
     "text": [
      "That string was handled as Boolean = True\n"
     ]
    }
   ],
   "source": [
    "# то же самое получится, если преобразовать строку к Bool явно\n",
    "\n",
    "if bool(\"That's a string! Bot boolean. However...\"):\n",
    "    print(\"That string was handled as Boolean = True\")\n",
    "else:\n",
    "    print(\"That string was not handled as False\")"
   ]
  },
  {
   "cell_type": "markdown",
   "metadata": {},
   "source": [
    "# P.S.: переменные в памяти\n",
    "\n",
    "Все объекты, содержащиеся в памяти интерпретатора на данный момент, можно вывести на экран с помощью команды:"
   ]
  },
  {
   "cell_type": "code",
   "execution_count": 66,
   "metadata": {},
   "outputs": [
    {
     "name": "stdout",
     "output_type": "stream",
     "text": [
      "Variable          Type        Data/Info\n",
      "---------------------------------------\n",
      "a                 NoneType    None\n",
      "i                 str         Extra string\n",
      "j                 str         Another string\n",
      "long_story        str         \\nLorem ipsum dolor sit a<...>m fermentum pellentesque.\n",
      "m                 int         301\n",
      "mixed_case        str         PyTHoN hackER\n",
      "n                 int         300\n",
      "pretty            str         string looks good\n",
      "r                 bool        False\n",
      "s                 str         Some text and the end of <...>d the end of the phrase. \n",
      "s1                str         Some text\n",
      "s2                str         Some text\n",
      "ugly_mixed_case   str            STRiNG LooKs BAd \n",
      "x                 int         100500\n",
      "y                 float       100500.0\n"
     ]
    }
   ],
   "source": [
    "%whos"
   ]
  }
 ],
 "metadata": {
  "kernelspec": {
   "display_name": "Python 3 (ipykernel)",
   "language": "python",
   "name": "python3"
  },
  "language_info": {
   "codemirror_mode": {
    "name": "ipython",
    "version": 3
   },
   "file_extension": ".py",
   "mimetype": "text/x-python",
   "name": "python",
   "nbconvert_exporter": "python",
   "pygments_lexer": "ipython3",
   "version": "3.10.2"
  },
  "vscode": {
   "interpreter": {
    "hash": "7b1f2b33e866b0bf2409397e5f58ba9cdf170d3b7f64c8f359c79998e2f88ad4"
   }
  }
 },
 "nbformat": 4,
 "nbformat_minor": 2
}
