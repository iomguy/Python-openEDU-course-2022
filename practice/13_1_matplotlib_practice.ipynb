{
 "cells": [
  {
   "cell_type": "code",
   "execution_count": null,
   "metadata": {},
   "outputs": [],
   "source": [
    "import matplotlib.pyplot as plt"
   ]
  },
  {
   "cell_type": "markdown",
   "metadata": {},
   "source": [
    "# Постройте два графика\n",
    "Замените пропуски ____ в блоках кода ниже, чтобы построить два кусочно-линейных графика по точкам из списков `x1, y1` и `x2, y2`.\n",
    "\n",
    "Первый - обычный кусочно-линейный график синего цвета.\n",
    "\n",
    "Второй - кусочно-линейный график с синими маркерами и красной пунктирной линией.\n",
    "\n",
    "Присвойте осям названия **x** и **y**"
   ]
  },
  {
   "cell_type": "code",
   "execution_count": null,
   "metadata": {},
   "outputs": [],
   "source": [
    "x1 = [10,20,30]\n",
    "y1 = [20,40,10]\n",
    "\n",
    "x2 = [10,20,30]\n",
    "y2 = [40,10,30]\n",
    "\n",
    "# график синего цвета\n",
    "a = plt.____(x1, y1, color=____, linewidth = 3)\n",
    "\n",
    "# график красного цвета с синими маркерами\n",
    "b = plt.____(x2, y2, color=____, \n",
    "         linestyle=\"dashdot\", linewidth = 3,\n",
    "         marker=\"o\", markerfacecolor=____, markersize=12)\n",
    "\n",
    "plt.____(\"x\")\n",
    "plt.____(\"y\")\n",
    "\n",
    "# какой метод позволяет вывести на экран фигуру?\n",
    "plt.____()"
   ]
  },
  {
   "cell_type": "code",
   "execution_count": null,
   "metadata": {},
   "outputs": [],
   "source": [
    "assert (a[0].get_color() in [\"b\", \"blue\"])\n",
    "assert (b[0].get_color() in [\"r\", \"red\"])"
   ]
  }
 ],
 "metadata": {
  "kernelspec": {
   "display_name": "Python 3.10.8 64-bit (microsoft store)",
   "language": "python",
   "name": "python3"
  },
  "language_info": {
   "codemirror_mode": {
    "name": "ipython",
    "version": 3
   },
   "file_extension": ".py",
   "mimetype": "text/x-python",
   "name": "python",
   "nbconvert_exporter": "python",
   "pygments_lexer": "ipython3",
   "version": "3.10.8"
  },
  "vscode": {
   "interpreter": {
    "hash": "7b1f2b33e866b0bf2409397e5f58ba9cdf170d3b7f64c8f359c79998e2f88ad4"
   }
  }
 },
 "nbformat": 4,
 "nbformat_minor": 4
}
