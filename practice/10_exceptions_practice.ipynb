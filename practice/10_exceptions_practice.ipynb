{
 "cells": [
  {
   "cell_type": "markdown",
   "metadata": {},
   "source": [
    "# 1. Работа с исключениями\n",
    "Замените пропуски `____` ниже. \n",
    "\n",
    "Функция `sum_of_list` в качестве аргумента принимает список и вычисляет сумму значений в нём. \n",
    "\n",
    "Однако если при при приобразованию элемента списка в тип `float` возникает исключение, он не должен учитываться при подсчёте этой суммы.\n",
    "\n",
    "В примерах ниже может возникнуть TypeError или ValueError при вызовые функции `float`. Поэтому можно или обработать их по очереди, или заменить пропуск `____`, обработав более общий тип исключений"
   ]
  },
  {
   "cell_type": "code",
   "execution_count": null,
   "metadata": {},
   "outputs": [],
   "source": [
    "def sum_of_list(values):\n",
    "    # мы должны куда-то суммировать наши значения\n",
    "    ____ = 0\n",
    "    for val in values:\n",
    "        # вспоминайте, какую конструкцию мы использовали при работе с исключениями\n",
    "        ____:\n",
    "            numeric_val = float(val)\n",
    "            ____ += numeric_val\n",
    "        # ниже - что-то про перехват и обработку исключений\n",
    "        ____ ____ as e:\n",
    "            ____\n",
    "    return ____"
   ]
  },
  {
   "cell_type": "code",
   "execution_count": null,
   "metadata": {},
   "outputs": [],
   "source": [
    "# чем дальше - тем более \"непохожие\" на числа элементы лежат в списках\n",
    "list1 = [1, 2, 3]\n",
    "list2 = ['1', 2.5, '3.0']\n",
    "list3 = ['', '1']\n",
    "list4 = []\n",
    "list5 = ['John', 'Doe', 'was', 'here']\n",
    "nasty_list = [KeyError(), [], dict()]\n",
    "\n",
    "assert sum_of_list(list1) == 6\n",
    "assert sum_of_list(list2) == 6.5\n",
    "assert sum_of_list(list3) == 1\n",
    "assert sum_of_list(list4) == 0\n",
    "assert sum_of_list(list5) == 0\n",
    "assert sum_of_list(nasty_list) == 0"
   ]
  },
  {
   "cell_type": "markdown",
   "metadata": {},
   "source": [
    "# 2. Использование собственных исключений\n",
    "\n",
    "Реализуйте функцию `verify_short_string`, которая принимает в качестве аргумента строку.\n",
    "Если длина этой строки больше 10 символов (без учёта пробелов!), функция должна вызывать исключение `TooLongString`\n",
    "Функция при этом не возвращает никаких значений (т.е. возвращает `None`).\n",
    "\n",
    "В первом блоке ниже вам нужно будет создать собственное исключение `TooLongString` - т.е. полноценный класс, который наследуется от `Exception`. \n",
    "\n",
    "\n",
    "The function does not have to return anything."
   ]
  },
  {
   "cell_type": "code",
   "execution_count": null,
   "metadata": {},
   "outputs": [],
   "source": [
    "class TooLongString(____):\n",
    "    # тут определите класс TooLongString"
   ]
  },
  {
   "cell_type": "code",
   "execution_count": null,
   "metadata": {},
   "outputs": [],
   "source": [
    "def verify_short_string(string):\n",
    "    if len(string) > 10:\n",
    "        # а тут - саму функцию, внутри которой будет вызываться исключение TooLongString"
   ]
  },
  {
   "cell_type": "code",
   "execution_count": null,
   "metadata": {},
   "outputs": [],
   "source": [
    "# здесь исключение не должно вызываться\n",
    "verify_short_string('short') \n",
    "\n",
    "# тут - тоже\n",
    "verify_short_string('10   chars')"
   ]
  },
  {
   "cell_type": "code",
   "execution_count": null,
   "metadata": {},
   "outputs": [],
   "source": [
    "# а вот тут уже - должны. Поэтому появляется обработчик этого исключения\n",
    "try:\n",
    "    verify_short_string('this is long')\n",
    "    \n",
    "except TooLongString as e:\n",
    "    print(\"Всё ок! Исключение обработалось\")\n",
    "    pass\n",
    "\n",
    "else:\n",
    "    print(\"Исключение не обработалось :(\\nИщите ошибку\")\n",
    "    assert False "
   ]
  }
 ],
 "metadata": {
  "kernelspec": {
   "display_name": "Python 3 (ipykernel)",
   "language": "python",
   "name": "python3"
  },
  "language_info": {
   "codemirror_mode": {
    "name": "ipython",
    "version": 3
   },
   "file_extension": ".py",
   "mimetype": "text/x-python",
   "name": "python",
   "nbconvert_exporter": "python",
   "pygments_lexer": "ipython3",
   "version": "3.10.2"
  }
 },
 "nbformat": 4,
 "nbformat_minor": 4
}
