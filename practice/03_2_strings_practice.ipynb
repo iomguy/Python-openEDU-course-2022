{
 "cells": [
  {
   "cell_type": "markdown",
   "metadata": {},
   "source": [
    "# 1. Заполните пропущенные интервалы\n",
    "Заполните `____`, чтобы получились верные значения переменных `lower_cased`, `stripped` и `stripped_lower_case`.\n",
    "\n",
    "По блоку с функциями `assert` догадайтесь, что нужно сделать с каждой переменной\n",
    "\n",
    "Не стесняйтесь погуглить, как работает метод `strip()`, и с помощью какого метода можно сделать все буквы в строке буквами нижнего регистра (не заглавными)."
   ]
  },
  {
   "cell_type": "code",
   "execution_count": null,
   "metadata": {},
   "outputs": [],
   "source": [
    "original = ' Python strings are COOL! '\n",
    "lower_cased = original._____\n",
    "stripped = ____.strip()\n",
    "\n",
    "# с помощью двух символов точка вы можете последовательно применить к исходной строке несколько методов.\n",
    "# например, сначала метод strip(), а затем - какой-то ещё ....\n",
    "stripped_lower_cased = original._____._____"
   ]
  },
  {
   "cell_type": "markdown",
   "metadata": {},
   "source": [
    "Напомню, что функция `assert` вызовет [`AssertionError`](https://docs.python.org/3/library/exceptions.html#AssertionError) если выражение справа от неё не является `True` (т.е. является `False`)"
   ]
  },
  {
   "cell_type": "code",
   "execution_count": null,
   "metadata": {
    "editable": false
   },
   "outputs": [],
   "source": [
    "assert lower_cased == ' python strings are cool! '\n",
    "assert stripped == 'Python strings are COOL!'\n",
    "assert stripped_lower_cased == 'python strings are cool!'"
   ]
  },
  {
   "cell_type": "markdown",
   "metadata": {},
   "source": [
    "# 2. Улучшите некрасивую строку\n",
    "Используйте на строке `ugly` метод `strip()`, чтобы убрать лишние символы в начале и в конце, а затем метод `title()`, чтобы каждое слово этой строки начиналось с заглавной буквы.\n",
    "\n",
    "Проверьте, что получившаяся строка совпадает со строкой из блока с функцией `assert` ниже"
   ]
  },
  {
   "cell_type": "code",
   "execution_count": null,
   "metadata": {
    "editable": false
   },
   "outputs": [],
   "source": [
    "ugly = ' tiTle of MY new Book\\n\\n'"
   ]
  },
  {
   "cell_type": "code",
   "execution_count": null,
   "metadata": {},
   "outputs": [],
   "source": [
    "# Ваше решение:\n",
    "pretty = ugly.____"
   ]
  },
  {
   "cell_type": "markdown",
   "metadata": {},
   "source": [
    "Проверим, что результат правильный.\n",
    "\n",
    "Функция `assert` вызовет [`AssertionError`](https://docs.python.org/3/library/exceptions.html#AssertionError) если выражение справа от неё не True."
   ]
  },
  {
   "cell_type": "code",
   "execution_count": null,
   "metadata": {
    "editable": false
   },
   "outputs": [],
   "source": [
    "print('pretty: {}'.format(pretty))\n",
    "assert pretty == 'Title Of My New Book'"
   ]
  },
  {
   "cell_type": "markdown",
   "metadata": {},
   "source": [
    "# 3. Составьте строку из других строк\n",
    "Создайте `sentence`, используя `verb`, `language` и `punctuation` и любые другие строки, которые вам могут понадобиться."
   ]
  },
  {
   "cell_type": "code",
   "execution_count": null,
   "metadata": {
    "editable": false
   },
   "outputs": [],
   "source": [
    "verb = 'is'\n",
    "language = 'Python'\n",
    "punctuation = '!'"
   ]
  },
  {
   "cell_type": "code",
   "execution_count": null,
   "metadata": {},
   "outputs": [],
   "source": [
    "# Ваше решение:\n",
    "sentence = ____"
   ]
  },
  {
   "cell_type": "code",
   "execution_count": null,
   "metadata": {
    "editable": false
   },
   "outputs": [],
   "source": [
    "print('sentence: {}'.format(sentence))\n",
    "assert sentence == 'Learning Python is fun!'"
   ]
  }
 ],
 "metadata": {
  "kernelspec": {
   "display_name": "Python 3.10.8 64-bit (microsoft store)",
   "language": "python",
   "name": "python3"
  },
  "language_info": {
   "codemirror_mode": {
    "name": "ipython",
    "version": 3
   },
   "file_extension": ".py",
   "mimetype": "text/x-python",
   "name": "python",
   "nbconvert_exporter": "python",
   "pygments_lexer": "ipython3",
   "version": "3.10.8"
  },
  "vscode": {
   "interpreter": {
    "hash": "7b1f2b33e866b0bf2409397e5f58ba9cdf170d3b7f64c8f359c79998e2f88ad4"
   }
  }
 },
 "nbformat": 4,
 "nbformat_minor": 1
}
