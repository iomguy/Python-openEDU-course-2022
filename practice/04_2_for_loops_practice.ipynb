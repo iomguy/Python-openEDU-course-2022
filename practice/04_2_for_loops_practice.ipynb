{
 "cells": [
  {
   "cell_type": "markdown",
   "metadata": {},
   "source": [
    "# 1. Заполните пропуски\n",
    "Заполните пропуски в коде ниже `____`, чтобы из списка `words` получить список `upper_case_words`\n",
    "\n",
    "По блоку с методом `assert` догадайтесь, по какому принципу должны отфильтровываться слова"
   ]
  },
  {
   "cell_type": "code",
   "execution_count": null,
   "metadata": {},
   "outputs": [],
   "source": [
    "words = ['PYTHON', 'JOHN', 'chEEse', 'hAm', 'DOE', '123']\n",
    "upper_case_words = []\n",
    "\n",
    "for word in ____:\n",
    "    if word.isupper():\n",
    "        ____.append(word)\n",
    "        \n",
    "upper_case_words"
   ]
  },
  {
   "cell_type": "code",
   "execution_count": null,
   "metadata": {},
   "outputs": [],
   "source": [
    "# проверим\n",
    "assert upper_case_words == ['PYTHON', 'JOHN', 'DOE']"
   ]
  },
  {
   "cell_type": "markdown",
   "metadata": {},
   "source": [
    "# 2. Посчитайте сумму значений словаря\n",
    "Посчитайте сумму значений в словаре `magic_dict`, учтя в ней только численные знаяения \n",
    "\n",
    "Подсказка: см., как работает метод [isinstance](https://docs.python.org/3/library/functions.html#isinstance).\n",
    "\n",
    "Очевидно, Вам следует отфильтровывать целые числа и числа с плавающей запятой, т.е. `float | int`\n",
    "\n",
    "Цикл `for` должен перебирать значения словаря, а не его ключи.\n",
    "Для этого используйте на словаре `magic_dict` метод `.values()`"
   ]
  },
  {
   "cell_type": "code",
   "execution_count": null,
   "metadata": {},
   "outputs": [],
   "source": [
    "magic_dict = dict(val1=44, val2='secret value', val3=55.0, val4=1)"
   ]
  },
  {
   "cell_type": "code",
   "execution_count": null,
   "metadata": {},
   "outputs": [],
   "source": [
    "# Ваше решение\n",
    "\n",
    "# в эту переменную будем \"складывать, суммировать\" значения словаря\n",
    "sum_of_values = 0\n",
    "\n",
    "for value in magic_dict.____:\n",
    "    if ____(____, float | int):\n",
    "        sum_of_values = sum_of_values + ____\n",
    "        \n",
    "sum_of_values"
   ]
  },
  {
   "cell_type": "code",
   "execution_count": null,
   "metadata": {},
   "outputs": [],
   "source": [
    "# Проверим\n",
    "assert sum_of_values == 100"
   ]
  },
  {
   "cell_type": "markdown",
   "metadata": {},
   "source": [
    "# 3. Создайте список строк из списка чисел\n",
    "Правила:\n",
    "* Если число кратно пяти и нечетно, замените его строкой `'five odd'`\n",
    "* Если число кратно пяти и чётно,   замените его строкой `'five even'`\n",
    "* Если число нечетное, замените его строкой быть `'odd'`\n",
    "* Если число четное, замените его строкой `'even'`"
   ]
  },
  {
   "cell_type": "code",
   "execution_count": null,
   "metadata": {},
   "outputs": [],
   "source": [
    "numbers = [1, 3, 4, 6, 81, 80, 100, 95]"
   ]
  },
  {
   "cell_type": "code",
   "execution_count": null,
   "metadata": {},
   "outputs": [],
   "source": [
    "# Ваше решение\n",
    "my_list = ____"
   ]
  },
  {
   "cell_type": "code",
   "execution_count": null,
   "metadata": {},
   "outputs": [],
   "source": [
    "# проверим\n",
    "assert my_list == ['odd', 'odd', 'even', 'even', 'odd', 'five even', 'five even', 'five odd']"
   ]
  }
 ],
 "metadata": {
  "kernelspec": {
   "display_name": "Python 3.10.8 64-bit (microsoft store)",
   "language": "python",
   "name": "python3"
  },
  "language_info": {
   "codemirror_mode": {
    "name": "ipython",
    "version": 3
   },
   "file_extension": ".py",
   "mimetype": "text/x-python",
   "name": "python",
   "nbconvert_exporter": "python",
   "pygments_lexer": "ipython3",
   "version": "3.10.8"
  },
  "vscode": {
   "interpreter": {
    "hash": "7b1f2b33e866b0bf2409397e5f58ba9cdf170d3b7f64c8f359c79998e2f88ad4"
   }
  }
 },
 "nbformat": 4,
 "nbformat_minor": 2
}
