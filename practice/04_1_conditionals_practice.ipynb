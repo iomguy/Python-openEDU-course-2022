{
 "cells": [
  {
   "cell_type": "markdown",
   "metadata": {},
   "source": [
    "# `if-elif-else`\n",
    "Заполните пропуски (`____`) так, чтобы выводимые функцией `print` строки были осмысленными.\n",
    "\n",
    "Выражение `if-elif-else` при этом возвращает разные строки в зависимости от длины строки name\n",
    "\n",
    "Когда Вы выполните задание, попробуйте подставить строки разной длины в переменную `name`, чтобы блок `if-elif-else` вернул Вам разные ответы"
   ]
  },
  {
   "cell_type": "code",
   "execution_count": null,
   "metadata": {
    "editable": false
   },
   "outputs": [],
   "source": [
    "name = 'John Doe'"
   ]
  },
  {
   "cell_type": "code",
   "execution_count": null,
   "metadata": {},
   "outputs": [],
   "source": [
    "if ____:\n",
    "    # символ f перед строкой позволяет подставлять в неё значения переменных, если записать их в фигурных скобках\n",
    "    print(f'Name \"{name}\" is more than 20 chars long')\n",
    "    length_description = 'long'\n",
    "elif ____:\n",
    "    print(f'Name \"{name}\" is more than 15 chars long')\n",
    "    length_description = 'semi long'\n",
    "elif ____:\n",
    "    print(f'Name \"{name}\" is more than 10 chars long')\n",
    "    length_description = 'semi long'\n",
    "elif ____:\n",
    "    print(f'Name \"{name}\" is 8, 9 or 10 chars long')\n",
    "    length_description = 'semi short'\n",
    "else:\n",
    "    print(f'Name \"{name}\" is a short name')\n",
    "    length_description = 'short'"
   ]
  },
  {
   "cell_type": "code",
   "execution_count": null,
   "metadata": {},
   "outputs": [],
   "source": [
    "# проверим\n",
    "assert length_description == 'semi short'"
   ]
  }
 ],
 "metadata": {
  "celltoolbar": "Edit Metadata",
  "kernelspec": {
   "display_name": "Python 3 (ipykernel)",
   "language": "python",
   "name": "python3"
  },
  "language_info": {
   "codemirror_mode": {
    "name": "ipython",
    "version": 3
   },
   "file_extension": ".py",
   "mimetype": "text/x-python",
   "name": "python",
   "nbconvert_exporter": "python",
   "pygments_lexer": "ipython3",
   "version": "3.10.2"
  }
 },
 "nbformat": 4,
 "nbformat_minor": 2
}
