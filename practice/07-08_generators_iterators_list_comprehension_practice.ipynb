{
 "cells": [
  {
   "cell_type": "code",
   "execution_count": null,
   "metadata": {},
   "outputs": [],
   "source": [
    "import itertools"
   ]
  },
  {
   "cell_type": "markdown",
   "metadata": {},
   "source": [
    "# 1. Натуральные числа\n",
    "Замените пропуск `____`, чтобы создать генератор `g`, лениво считающий отрицательные целые числа, начиная с единицы.\n",
    "Чтобы вспомнить, какой итератор из модуля itertools использовать, посмотрите этот момент в лекции/презентации.\n",
    "\n",
    "Т.к. генераторы и итераторы не позволяют итерироваться \"в обратном направлении\", если Вы несколько раз запустили блоки кода и что-то сбили, нажмите на кнопку \"Restart the kernel\", чтобы очистить память интерпретатора, и выполните все блоки кода заново"
   ]
  },
  {
   "cell_type": "code",
   "execution_count": null,
   "metadata": {},
   "outputs": [],
   "source": [
    "g = (-x for x in ____)\n",
    "\n",
    "# выведите первые 20 из них\n",
    "\n",
    "# одно нижнее подчёркивание в цикле ниже не нужно ни на что заменять\n",
    "# вспомните, зачем оно нужно в Python (или погуглите)\n",
    "\n",
    "for _ in range(20):\n",
    "    number = next(g)\n",
    "    print(number)"
   ]
  },
  {
   "cell_type": "code",
   "execution_count": null,
   "metadata": {},
   "outputs": [],
   "source": [
    "# проверьте, что последнее созданное генератором число - действительно равно -20\n",
    "assert number == -20"
   ]
  },
  {
   "cell_type": "code",
   "execution_count": null,
   "metadata": {},
   "outputs": [],
   "source": [
    "def gen():\n",
    "    for x in ____:\n",
    "        yield -x\n",
    "        \n",
    "        \n",
    "g_2 = gen()\n",
    "\n",
    "for _ in range(20):\n",
    "    number_2 = next(g_2)\n",
    "    print(number_2)"
   ]
  },
  {
   "cell_type": "code",
   "execution_count": null,
   "metadata": {},
   "outputs": [],
   "source": [
    "# проверьте, что последнее число - действительно равно -20\n",
    "assert number_2 == -20"
   ]
  },
  {
   "cell_type": "markdown",
   "metadata": {},
   "source": [
    "помните, что генераторы запоминают, где остановили работу?\n",
    "\n",
    "Проверим, что генератор `g` начнёт с **-21** и закончит на **-40**!"
   ]
  },
  {
   "cell_type": "code",
   "execution_count": null,
   "metadata": {},
   "outputs": [],
   "source": [
    "for _ in range(20):\n",
    "    number = next(g)\n",
    "    print(number)"
   ]
  },
  {
   "cell_type": "code",
   "execution_count": null,
   "metadata": {},
   "outputs": [],
   "source": [
    "# не забудьте нажать на кнопку restart выше и заново запустить все блоки кода, \n",
    "# если вы случайно запустили блок выше больше одного раза!\n",
    "\n",
    "assert number == -40"
   ]
  },
  {
   "cell_type": "markdown",
   "metadata": {},
   "source": [
    "# 2. Числа Фиббоначи\n",
    "Замените пропуск `____`, чтобы реализовать генераторную функцию `fibonacci`, которая будет при каждом вызове метода `next` возвращать следующее число Фиббоначи ([что это такое?](https://ru.wikipedia.org/wiki/%D0%A7%D0%B8%D1%81%D0%BB%D0%B0_%D0%A4%D0%B8%D0%B1%D0%BE%D0%BD%D0%B0%D1%87%D1%87%D0%B8?oldformat=true)).\n",
    "\n",
    "Не забудьте, что маленькое нижнее подчёркивание `_` часто ставится в Python вместо переменной `i` в циклах, и его не нужно ничем заменять"
   ]
  },
  {
   "cell_type": "code",
   "execution_count": null,
   "metadata": {},
   "outputs": [],
   "source": [
    "# тут мы будем делать плохое - менять из функции глобальные переменные a и b\n",
    "fib_0, fib_2 = 0, 1\n",
    "\n",
    "a, b = fib_0, fib_2\n",
    "\n",
    "def fibonacci():\n",
    "    for x in itertools.count(1):        \n",
    "        global a\n",
    "        global b\n",
    "        \n",
    "        c = a+b\n",
    "        \n",
    "        a = b\n",
    "        b = c\n",
    "        \n",
    "        ____ c"
   ]
  },
  {
   "cell_type": "code",
   "execution_count": null,
   "metadata": {},
   "outputs": [],
   "source": [
    "# создадим генератор и \"сцепим\" его с первыми двумя Числами Фибоначчи\n",
    "\n",
    "gen = fibonacci()\n",
    "gen_fib = itertools.chain((fib_0, fib_2), gen)"
   ]
  },
  {
   "cell_type": "code",
   "execution_count": null,
   "metadata": {},
   "outputs": [],
   "source": [
    "# выведем первые 20 значений, создаваемых генератором\n",
    "for _ in range(20):\n",
    "    print(next(gen_fib))"
   ]
  },
  {
   "cell_type": "code",
   "execution_count": null,
   "metadata": {},
   "outputs": [],
   "source": [
    "# этот блок сработает один раз, т.к. следующее число Фиббоначи равно 6765\n",
    "# если запустить его ещё раз, снова сработает next, и генератор выдаст уже следующее число\n",
    "\n",
    "assert next(gen_fib) == 6765"
   ]
  }
 ],
 "metadata": {
  "kernelspec": {
   "display_name": "Python 3 (ipykernel)",
   "language": "python",
   "name": "python3"
  },
  "language_info": {
   "codemirror_mode": {
    "name": "ipython",
    "version": 3
   },
   "file_extension": ".py",
   "mimetype": "text/x-python",
   "name": "python",
   "nbconvert_exporter": "python",
   "pygments_lexer": "ipython3",
   "version": "3.10.2"
  }
 },
 "nbformat": 4,
 "nbformat_minor": 2
}
