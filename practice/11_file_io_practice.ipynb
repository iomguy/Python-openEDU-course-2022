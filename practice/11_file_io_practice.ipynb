{
 "cells": [
  {
   "cell_type": "markdown",
   "metadata": {},
   "source": [
    "# Подготовка данных, создание файла"
   ]
  },
  {
   "cell_type": "code",
   "execution_count": null,
   "metadata": {},
   "outputs": [],
   "source": [
    "# не забудьте сначала выполнить этот блок!\n",
    "# модуль os позволяет вам работать с операционной системой (Windows/Linux/Mac OS)\n",
    "import os"
   ]
  },
  {
   "cell_type": "code",
   "execution_count": null,
   "metadata": {},
   "outputs": [],
   "source": [
    "# эта функция определяет путь до директории (папки) от которой интерпрететор будет\n",
    "# \"отсчитывать\" относительные пути. Т.е. это та папка, в которой находится ваш Python-скрипт\n",
    "dir_script = os.getcwd()\n",
    "\n",
    "# папка и файлы, которые мы создадим с помощью Python, и с которыми будем работать\n",
    "data_folder = 'data_file_io_exercise'\n",
    "data_file_1 = \"numbers.txt\"\n",
    "data_file_2 = \"simple_file.txt\"\n",
    "data_file_3 = \"simple_file_with_empty_lines.txt\"\n",
    "\n",
    "# метод join \"склеивает\" несколько путей до файлов или папок\n",
    "dir_path = os.path.join(dir_script, data_folder)\n",
    "file_1_path = os.path.join(dir_path, data_file_1)\n",
    "file_2_path = os.path.join(dir_path, data_file_2)\n",
    "file_3_path = os.path.join(dir_path, data_file_3)"
   ]
  },
  {
   "cell_type": "code",
   "execution_count": null,
   "metadata": {},
   "outputs": [],
   "source": [
    "# как видите, мы построили абсолютный путь до папки, \"склеив\" два пути\n",
    "dir_path"
   ]
  },
  {
   "cell_type": "code",
   "execution_count": null,
   "metadata": {},
   "outputs": [],
   "source": [
    "# запишем в файлы такую вот строку\n",
    "\n",
    "file_1_input_string = \"\"\"1\n",
    "2.5\n",
    "16\n",
    "4\n",
    "5\n",
    "12\n",
    "15\n",
    "16\n",
    "18\n",
    "100\"\"\"\n",
    "\n",
    "file_2_input_string = \"\"\"First line\n",
    "Second line\n",
    "Third\n",
    "And so the story goes!\"\"\"\n",
    "\n",
    "file_3_input_string = \"\"\"The Title of the Story\n",
    "\n",
    "First paragraph with some\n",
    "nonsense words.\n",
    "\n",
    "Then we move to second paragraph and so on.\"\"\""
   ]
  },
  {
   "cell_type": "code",
   "execution_count": null,
   "metadata": {},
   "outputs": [],
   "source": [
    "# создадим папку, если она ещё не создана\n",
    "os.makedirs(dir_path, exist_ok=True)\n",
    "\n",
    "# запишем в файл строку с числами\n",
    "with open(file_1_path, \"w\") as f:\n",
    "    f.write(file_1_input_string)\n",
    "    \n",
    "# а в остальные - со словами\n",
    "with open(file_2_path, \"w\") as f:\n",
    "    f.write(file_2_input_string)\n",
    "    \n",
    "# запишем в файл строку с числами\n",
    "with open(file_3_path, \"w\") as f:\n",
    "    f.write(file_3_input_string)"
   ]
  },
  {
   "cell_type": "markdown",
   "metadata": {},
   "source": [
    "Заметьте, в директории с вашим скриптом появилась папка.\n",
    "\n",
    "А в ней - 3 текстовых файла.\n",
    "\n",
    "Изучите их содержимое"
   ]
  },
  {
   "cell_type": "markdown",
   "metadata": {},
   "source": [
    "# 1. Просуммировать числа, записанные в файле\n",
    "Заполните пропуски `____` в коде ниже.\n",
    "\n",
    "Дополните функцию `sum_numbers_in_file`, которая в качестве аргумента использует путь до файла, читает числа, записанные в этом файле, и возвращает их сумму.\n",
    "\n",
    "Пусть для простоты в каждой строке файла содержится одно и только одно число."
   ]
  },
  {
   "cell_type": "code",
   "execution_count": null,
   "metadata": {},
   "outputs": [],
   "source": [
    "def sum_numbers_in_file(input_file):\n",
    "    # подчёркивание после название переменной часто используют, чтобы\n",
    "    # название переменной не совпало с названием встроенной функции (sum)    \n",
    "    sum_ = 0\n",
    "    with ____(input_file, ____) as ____:\n",
    "        for line in ____:\n",
    "            line_stripped = line.strip()  # убираем потенциальные пробелы слева-справа в строке\n",
    "            ____ += float(____)\n",
    "    return ____"
   ]
  },
  {
   "cell_type": "code",
   "execution_count": null,
   "metadata": {},
   "outputs": [],
   "source": [
    "assert(sum_numbers_in_file(file_1_path) == 189.5)"
   ]
  },
  {
   "cell_type": "markdown",
   "metadata": {},
   "source": [
    "# 2. Чтение первого слова в каждой строке файла\n",
    "Создайте функцию `find_first_words`, которая в качестве аргумента использует путь до файла. Функция должна найти первое слово в каждой строке файла, и вернуть эти слова в виде списка.\n",
    "\n",
    "Если строка пустая, то функция возвращает пустую строку, т.е. `\"\"`"
   ]
  },
  {
   "cell_type": "code",
   "execution_count": null,
   "metadata": {},
   "outputs": [],
   "source": [
    "def find_first_words(path):\n",
    "    # напишите здесь Ваше решение"
   ]
  },
  {
   "cell_type": "code",
   "execution_count": null,
   "metadata": {},
   "outputs": [],
   "source": [
    "expected_file_1 = ['First', 'Second', 'Third', 'And']\n",
    "assert(find_first_words(file_2_path) == expected_file_1)\n",
    "\n",
    "expected_file_2 = ['The', '', 'First', 'nonsense', '', 'Then']\n",
    "assert(find_first_words(file_3_path) == expected_file_2)"
   ]
  }
 ],
 "metadata": {
  "kernelspec": {
   "display_name": "Python 3.10.8 64-bit (microsoft store)",
   "language": "python",
   "name": "python3"
  },
  "language_info": {
   "codemirror_mode": {
    "name": "ipython",
    "version": 3
   },
   "file_extension": ".py",
   "mimetype": "text/x-python",
   "name": "python",
   "nbconvert_exporter": "python",
   "pygments_lexer": "ipython3",
   "version": "3.10.8"
  },
  "varInspector": {
   "cols": {
    "lenName": 16,
    "lenType": 16,
    "lenVar": 40
   },
   "kernels_config": {
    "python": {
     "delete_cmd_postfix": "",
     "delete_cmd_prefix": "del ",
     "library": "var_list.py",
     "varRefreshCmd": "print(var_dic_list())"
    },
    "r": {
     "delete_cmd_postfix": ") ",
     "delete_cmd_prefix": "rm(",
     "library": "var_list.r",
     "varRefreshCmd": "cat(var_dic_list()) "
    }
   },
   "types_to_exclude": [
    "module",
    "function",
    "builtin_function_or_method",
    "instance",
    "_Feature"
   ],
   "window_display": false
  },
  "vscode": {
   "interpreter": {
    "hash": "7b1f2b33e866b0bf2409397e5f58ba9cdf170d3b7f64c8f359c79998e2f88ad4"
   }
  }
 },
 "nbformat": 4,
 "nbformat_minor": 2
}
