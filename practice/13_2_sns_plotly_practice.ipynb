{
 "cells": [
  {
   "cell_type": "code",
   "execution_count": null,
   "metadata": {},
   "outputs": [],
   "source": [
    "# import numpy as np\n",
    "# import matplotlib as mpl\n",
    "# import matplotlib.pyplot as plt\n",
    "# %matplotlib inline\n",
    "\n",
    "import seaborn as sns\n",
    "import plotly.express as px\n",
    "\n",
    "import numpy as np"
   ]
  },
  {
   "cell_type": "markdown",
   "metadata": {},
   "source": [
    "# Изучение пингвинов\n",
    "В качестве источника данных рассмотрим ещё один популярный датасет.\n",
    "\n",
    "<img src=\"13_imgs/penguins_speices.png\" alt=\"drawing\" width=\"600\"/>\n",
    "\n",
    "\"Пингвины Палмера\" - альтернатива знаменитым [\"Ирисам Фишера\"](https://ru.wikipedia.org/wiki/%D0%98%D1%80%D0%B8%D1%81%D1%8B_%D0%A4%D0%B8%D1%88%D0%B5%D1%80%D0%B0?oldformat=true). Это набор данных о трёх видах пингвинов на островах архипелага Палмера с информацией об их поле, размерах плавников и клюва.\n",
    "\n",
    "<img src=\"13_imgs/penguin_bill.png\" alt=\"drawing\" width=\"600\"/>\n",
    "\n",
    "Замените пропуски ____ в блоках кода ниже, чтобы визуализировать эти данные, согласно заданиям\n",
    "\n",
    "[Источник иллюстраций](https://www.analyticsvidhya.com/blog/2022/04/data-exploration-and-visualisation-using-palmer-penguins-dataset/)"
   ]
  },
  {
   "cell_type": "code",
   "execution_count": null,
   "metadata": {},
   "outputs": [],
   "source": [
    "# загрузим датасет в Pandas DataFrame\n",
    "penguins_data = sns.load_dataset(\"penguins\")"
   ]
  },
  {
   "cell_type": "code",
   "execution_count": null,
   "metadata": {},
   "outputs": [],
   "source": [
    "# получим основную информацию о наборе данных\n",
    "penguins_data.info()"
   ]
  },
  {
   "cell_type": "code",
   "execution_count": null,
   "metadata": {},
   "outputs": [],
   "source": [
    "# выведите первые 5 строк таблицы\n",
    "# вспомните метод из PanDas\n",
    "first_rows = penguins_data.____()\n",
    "first_rows"
   ]
  },
  {
   "cell_type": "code",
   "execution_count": null,
   "metadata": {},
   "outputs": [],
   "source": [
    "assert(str(first_rows) == '  species     island  bill_length_mm  bill_depth_mm  flipper_length_mm  \\\\\\n0  Adelie  Torgersen            39.1           18.7              181.0   \\n1  Adelie  Torgersen            39.5           17.4              186.0   \\n2  Adelie  Torgersen            40.3           18.0              195.0   \\n3  Adelie  Torgersen             NaN            NaN                NaN   \\n4  Adelie  Torgersen            36.7           19.3              193.0   \\n\\n   body_mass_g     sex  \\n0       3750.0    Male  \\n1       3800.0  Female  \\n2       3250.0  Female  \\n3          NaN     NaN  \\n4       3450.0  Female  ')"
   ]
  },
  {
   "cell_type": "markdown",
   "metadata": {},
   "source": [
    "## Масса и длина клюва\n",
    "Посмотрим, зависит ли масса от длины клюва для особей разного пола.\n",
    "\n",
    "Погуглите, какой метод в `plotly express` позволяет построить кусочно-линейный график.\n",
    "\n",
    "Выведите на оси X значения столбца `bill_length_mm`, Y - значения столбца `body_mass_g`, а разным типом точки (маркера) обозначьте пол."
   ]
  },
  {
   "cell_type": "code",
   "execution_count": null,
   "metadata": {},
   "outputs": [],
   "source": [
    "\n",
    "l = px.____(\n",
    "    ____=penguins_data,\n",
    "    ____=\"bill_length_mm\",\n",
    "    ____=\"body_mass_g\",\n",
    "    symbol=\"sex\",\n",
    "    width=600)\n",
    "\n",
    "l"
   ]
  },
  {
   "cell_type": "code",
   "execution_count": null,
   "metadata": {},
   "outputs": [],
   "source": [
    "assert(l.data[0]['mode'] == 'markers+lines')"
   ]
  },
  {
   "cell_type": "markdown",
   "metadata": {},
   "source": [
    "Какая-то каша из линий, не правда ли? Однако в ней уже виднеются близко лежащие \"кластеры\".\n",
    "\n",
    "Визуализируем их в виде [\"диаграммы рассеяния\"](https://ru.wikipedia.org/wiki/%D0%94%D0%B8%D0%B0%D0%B3%D1%80%D0%B0%D0%BC%D0%BC%D0%B0_%D1%80%D0%B0%D1%81%D1%81%D0%B5%D1%8F%D0%BD%D0%B8%D1%8F?oldformat=true) - т.е. обычного точечного графика.\n",
    "\n",
    "Пусть  цвет обозначает вид пингвина, а тип маркера - снова пол"
   ]
  },
  {
   "cell_type": "code",
   "execution_count": null,
   "metadata": {},
   "outputs": [],
   "source": [
    "s = px.____(\n",
    "    ____=penguins_data,\n",
    "    ____=\"bill_length_mm\",\n",
    "    ____=\"body_mass_g\",\n",
    "    ____=\"species\",\n",
    "    symbol=\"sex\",\n",
    "    width=600)\n",
    "\n",
    "s"
   ]
  },
  {
   "cell_type": "code",
   "execution_count": null,
   "metadata": {},
   "outputs": [],
   "source": [
    "assert(s.data[0]['mode'] == 'markers')"
   ]
  },
  {
   "cell_type": "markdown",
   "metadata": {},
   "source": [
    "Такая визуализация уже понетнее: точки \"длина клюва - масса\" кластеризованы для разных видов пингвинов и относительно кластеризованы для разных полов в пределах каждого вида.\n",
    "\n",
    "Однако одной и той же длине клюва могут соответствовать особи с разной массой.\n",
    "\n",
    "Попробуем ещё раз построить кусочно-линейный график, только с помощью библиотеки `seaborn`, которая умеет работать с доверительными интервалами.\n",
    "\n",
    "Погуглите, какой метод в `seaborn` позволяет построить кусочно-линейный график.\n",
    "\n",
    "Как и в точечном графике. пусть цвет обозначает вид пингвина, а тип маркера - пол"
   ]
  },
  {
   "cell_type": "code",
   "execution_count": null,
   "metadata": {},
   "outputs": [],
   "source": [
    "l_s = sns.____(\n",
    "    ____=penguins_data,\n",
    "    x=\"bill_length_mm\",\n",
    "    y=\"body_mass_g\",\n",
    "    ____=\"species\",\n",
    "    style=\"sex\")\n",
    "\n",
    "l_s"
   ]
  },
  {
   "cell_type": "code",
   "execution_count": null,
   "metadata": {},
   "outputs": [],
   "source": [
    "assert(np.array_equal(l_s.properties()[\"xticks\"], np.array([30., 35., 40., 45., 50., 55., 60., 65.])))"
   ]
  },
  {
   "cell_type": "markdown",
   "metadata": {},
   "source": [
    "Не так удобно, как поточечный график, однако часть \"шума\" в точках попала в доверительные интервалы, которые выделены полупрозрачным цветом.\n",
    "\n",
    "По графику всё равно видно, как точки кластеризованы для разных видов и полов.\n",
    "\n",
    "*насколько адекватно строить доверительные интервалы для такого количества точек - разумный вопрос"
   ]
  },
  {
   "cell_type": "markdown",
   "metadata": {},
   "source": [
    "## Виды пингвинов на островах\n",
    "Построим с помощью `plotly` диаграмму, которая покажет распределение видов на разных островах.\n",
    "\n",
    "Погуглите, какой метод в `plotly express` позволяет построить [столбчатую диаграмму](https://ru.wikipedia.org/wiki/%D0%A1%D1%82%D0%BE%D0%BB%D0%B1%D1%87%D0%B0%D1%82%D0%B0%D1%8F_%D0%B4%D0%B8%D0%B0%D0%B3%D1%80%D0%B0%D0%BC%D0%BC%D0%B0?oldformat=true).\n",
    "\n",
    "Создайте с помощью одного этого метода фигуру с тремя графиками на каждый вид пингвинов.\n",
    "\n",
    "На каждом графике по оси Y должны быть отмечены острова, а вид пингвинов будет дополнительно выделен цветом и штриховкой столбца"
   ]
  },
  {
   "cell_type": "code",
   "execution_count": null,
   "metadata": {},
   "outputs": [],
   "source": [
    "b = px.____(\n",
    "   data_frame=penguins_data,\n",
    "   ____ = \"island\",\n",
    "   facet_row=\"species\",\n",
    "   pattern_shape=\"species\",\n",
    "   color=\"species\",\n",
    "   facet_row_spacing=0.10, width=600, height=600)\n",
    "\n",
    "b"
   ]
  },
  {
   "cell_type": "code",
   "execution_count": null,
   "metadata": {},
   "outputs": [],
   "source": [
    "assert(b.data[0].orientation == 'h')"
   ]
  },
  {
   "cell_type": "markdown",
   "metadata": {},
   "source": [
    "Судя по диаграммам, пингвины Адели населяли все три острова, пингвины Чинстрап - только остров Dream, а Генту - только остров Biscoe.\n",
    "\n",
    "Подобные визуализации позволяют получить полезную информацию о ваших наборах данных.\n",
    "\n",
    "Изучайте различные методы визуализации данных, и удачи в их анализе!"
   ]
  }
 ],
 "metadata": {
  "kernelspec": {
   "display_name": "Python 3.10.8 64-bit (microsoft store)",
   "language": "python",
   "name": "python3"
  },
  "language_info": {
   "codemirror_mode": {
    "name": "ipython",
    "version": 3
   },
   "file_extension": ".py",
   "mimetype": "text/x-python",
   "name": "python",
   "nbconvert_exporter": "python",
   "pygments_lexer": "ipython3",
   "version": "3.10.8"
  },
  "varInspector": {
   "cols": {
    "lenName": 16,
    "lenType": 16,
    "lenVar": 40
   },
   "kernels_config": {
    "python": {
     "delete_cmd_postfix": "",
     "delete_cmd_prefix": "del ",
     "library": "var_list.py",
     "varRefreshCmd": "print(var_dic_list())"
    },
    "r": {
     "delete_cmd_postfix": ") ",
     "delete_cmd_prefix": "rm(",
     "library": "var_list.r",
     "varRefreshCmd": "cat(var_dic_list()) "
    }
   },
   "types_to_exclude": [
    "module",
    "function",
    "builtin_function_or_method",
    "instance",
    "_Feature"
   ],
   "window_display": false
  },
  "vscode": {
   "interpreter": {
    "hash": "7b1f2b33e866b0bf2409397e5f58ba9cdf170d3b7f64c8f359c79998e2f88ad4"
   }
  }
 },
 "nbformat": 4,
 "nbformat_minor": 4
}
